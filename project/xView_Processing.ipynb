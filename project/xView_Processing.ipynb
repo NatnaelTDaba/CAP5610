{
 "cells": [
  {
   "cell_type": "code",
   "execution_count": 1,
   "metadata": {
    "executionInfo": {
     "elapsed": 4995,
     "status": "ok",
     "timestamp": 1614106353811,
     "user": {
      "displayName": "Natnael Taye",
      "photoUrl": "https://lh3.googleusercontent.com/a-/AOh14GhLsOfPayUDuhnA0fYfbsxcWRCTOwPzHALWfRPL8g=s64",
      "userId": "14979943471241687010"
     },
     "user_tz": 300
    },
    "id": "cNJa0Z4C1jXh"
   },
   "outputs": [
    {
     "name": "stdout",
     "output_type": "stream",
     "text": [
      "Training on small data\n"
     ]
    },
    {
     "name": "stderr",
     "output_type": "stream",
     "text": [
      "/home/abhijit/snap/jupyter/common/lib/python3.7/site-packages/joblib/_multiprocessing_helpers.py:45: UserWarning: [Errno 13] Permission denied.  joblib will operate in serial mode\n",
      "  warnings.warn('%s.  joblib will operate in serial mode' % (e,))\n"
     ]
    }
   ],
   "source": [
    "import os\n",
    "import sys\n",
    "work_dir = '/home/abhijit/nat/Object-Detection'\n",
    "data_dir = work_dir+'/data/'\n",
    "util_dir = work_dir+'/data_utilities/'\n",
    "os.chdir(work_dir)\n",
    "sys.path.append(util_dir)\n",
    "sys.path.append(data_dir)\n",
    "\n",
    "import wv_util as wv\n",
    "import matplotlib.pyplot as plt\n",
    "import numpy as np\n",
    "import csv\n",
    "%matplotlib inline\n",
    "from PIL import Image, ImageDraw \n",
    "from tqdm import tqdm\n",
    "import pickle\n",
    "import torch\n",
    "import torchvision\n",
    "from torch.utils.tensorboard import SummaryWriter\n",
    "from torchvision.datasets import ImageFolder\n",
    "import torchvision.transforms as transforms\n",
    "from matplotlib.lines import Line2D\n",
    "import pandas as pd\n",
    "from read_write import *\n",
    "import shutil\n",
    "from torch.utils.data import random_split, WeightedRandomSampler, DataLoader\n",
    "import torch.nn as nn\n",
    "from utils import *"
   ]
  },
  {
   "cell_type": "code",
   "execution_count": 2,
   "metadata": {
    "colab": {
     "base_uri": "https://localhost:8080/"
    },
    "executionInfo": {
     "elapsed": 21011,
     "status": "ok",
     "timestamp": 1614106379543,
     "user": {
      "displayName": "Natnael Taye",
      "photoUrl": "https://lh3.googleusercontent.com/a-/AOh14GhLsOfPayUDuhnA0fYfbsxcWRCTOwPzHALWfRPL8g=s64",
      "userId": "14979943471241687010"
     },
     "user_tz": 300
    },
    "id": "uVS_62Kx1jXo",
    "outputId": "f9337eb3-cd53-4f4b-e951-dfe1a9f016f2"
   },
   "outputs": [
    {
     "name": "stderr",
     "output_type": "stream",
     "text": [
      "100%|██████████| 601937/601937 [00:03<00:00, 190941.93it/s]\n"
     ]
    }
   ],
   "source": [
    "#Loading our labels\n",
    "coords, chips, classes = wv.get_labels(data_dir+'xView_train.geojson')"
   ]
  },
  {
   "cell_type": "code",
   "execution_count": 3,
   "metadata": {
    "executionInfo": {
     "elapsed": 592,
     "status": "ok",
     "timestamp": 1614106381131,
     "user": {
      "displayName": "Natnael Taye",
      "photoUrl": "https://lh3.googleusercontent.com/a-/AOh14GhLsOfPayUDuhnA0fYfbsxcWRCTOwPzHALWfRPL8g=s64",
      "userId": "14979943471241687010"
     },
     "user_tz": 300
    },
    "id": "21gQ7pzbQDkZ"
   },
   "outputs": [],
   "source": [
    "labels = {}\n",
    "with open(util_dir+'xview_class_labels.txt') as f:\n",
    "    for row in csv.reader(f):\n",
    "        labels[int(row[0].split(\":\")[0])] = row[0].split(\":\")[1]\n",
    "\n",
    "valid_labels = list(labels.keys())"
   ]
  },
  {
   "cell_type": "code",
   "execution_count": 4,
   "metadata": {
    "id": "d606klytlSMz"
   },
   "outputs": [
    {
     "data": {
      "text/plain": [
       "60"
      ]
     },
     "execution_count": 4,
     "metadata": {},
     "output_type": "execute_result"
    }
   ],
   "source": [
    "valid_chip_names = load(\"valid_chip_names.pkl\")\n",
    "\n",
    "id2label = load(\"class_to_label_map.pkl\")\n",
    "\n",
    "label2id = {v:k for k,v in id2label.items()}\n",
    "\n",
    "len(id2label)"
   ]
  },
  {
   "cell_type": "code",
   "execution_count": 5,
   "metadata": {},
   "outputs": [
    {
     "ename": "NameError",
     "evalue": "name 'label' is not defined",
     "output_type": "error",
     "traceback": [
      "\u001b[0;31m---------------------------------------------------------------------------\u001b[0m",
      "\u001b[0;31mNameError\u001b[0m                                 Traceback (most recent call last)",
      "\u001b[0;32m<ipython-input-5-a889fef81a04>\u001b[0m in \u001b[0;36m<module>\u001b[0;34m\u001b[0m\n\u001b[0;32m----> 1\u001b[0;31m \u001b[0mlabel\u001b[0m\u001b[0;34m\u001b[0m\u001b[0;34m\u001b[0m\u001b[0m\n\u001b[0m",
      "\u001b[0;31mNameError\u001b[0m: name 'label' is not defined"
     ]
    }
   ],
   "source": [
    "label"
   ]
  },
  {
   "cell_type": "code",
   "execution_count": null,
   "metadata": {},
   "outputs": [],
   "source": [
    "id2label = load_object('class_to_label_22classes.pkl')"
   ]
  },
  {
   "cell_type": "code",
   "execution_count": null,
   "metadata": {},
   "outputs": [],
   "source": [
    "def label2idx(labels):\n",
    "    return {label:label2id[label] for label in labels}"
   ]
  },
  {
   "cell_type": "code",
   "execution_count": 89,
   "metadata": {},
   "outputs": [
    {
     "data": {
      "text/plain": [
       "{'Cargo Truck': '24', 'Truck w/Box': '25', 'Truck w/Flatbed': '28'}"
      ]
     },
     "execution_count": 89,
     "metadata": {},
     "output_type": "execute_result"
    }
   ],
   "source": [
    "label2idx(['Cargo Truck','Truck w/Box', 'Truck w/Flatbed'])"
   ]
  },
  {
   "cell_type": "code",
   "execution_count": 35,
   "metadata": {
    "id": "Dn0x6Ta3oVpP"
   },
   "outputs": [],
   "source": [
    "unique, counts = np.unique(classes, return_counts=True)\n",
    "class_counts = {k:0 for k in list(unique.astype('int64'))}"
   ]
  },
  {
   "cell_type": "raw",
   "metadata": {
    "colab": {
     "base_uri": "https://localhost:8080/"
    },
    "executionInfo": {
     "elapsed": 4824302,
     "status": "ok",
     "timestamp": 1613776964508,
     "user": {
      "displayName": "Natnael Taye",
      "photoUrl": "https://lh3.googleusercontent.com/a-/AOh14GhLsOfPayUDuhnA0fYfbsxcWRCTOwPzHALWfRPL8g=s64",
      "userId": "14979943471241687010"
     },
     "user_tz": 300
    },
    "id": "1k87CjPk4mq7",
    "outputId": "70c68bfc-7538-44ac-bc5b-dbb6ece17681"
   },
   "source": [
    "org_data_dir = data_dir+'train_images/'\n",
    "tgt_data_dir = data_dir+'new_train_images/'\n",
    "chip_names = list(np.unique(chips))\n",
    "k = 0\n",
    "\n",
    "imgs_processed = 0\n",
    "\n",
    "with tqdm(total=len(chip_names), position=0, leave=True) as pbar:\n",
    "\n",
    "  for chip_name in tqdm(chip_names, position=0, leave=True):\n",
    "\n",
    "    if chip_name in valid_chip_names:\n",
    "\n",
    "      chip = np.array(Image.open(org_data_dir+chip_name))\n",
    "\n",
    "      chip_bboxes = coords[chips==chip_name]\n",
    "      bbox_classes = classes[chips==chip_name].astype(np.int64)\n",
    "      imgs_processed += 1\n",
    "      for i in range(len(chip_bboxes)):\n",
    "\n",
    "        cropped_img = chip[int(chip_bboxes[i][1])-10:int(chip_bboxes[i][3])+10, int(chip_bboxes[i][0])-10:int(chip_bboxes[i][2])+10]\n",
    "\n",
    "        if cropped_img.shape[0] > 0 and cropped_img.shape[1] > 0:\n",
    "\n",
    "          im = Image.fromarray(cropped_img)\n",
    "          im.save(tgt_data_dir+str(bbox_classes[i])+'/'+str(k+1)+'.jpg')\n",
    "          k += 1\n",
    "          class_counts[bbox_classes[i]] += 1\n",
    "\n",
    "    pbar.update()\n",
    "\n",
    "print(\"\\nNumber of extracted images:\", k)\n",
    "print(\"Number of chips processed:\", imgs_processed)"
   ]
  },
  {
   "cell_type": "code",
   "execution_count": null,
   "metadata": {},
   "outputs": [],
   "source": [
    "transform=transforms.Compose([\n",
    "            transforms.Resize((32,32)),\n",
    "            transforms.ToTensor()])\n",
    "\n",
    "dataset = ImageFolder(data_dir+'new_t',transform=transform,)\n",
    "\n",
    "#trainset, valset = random_split(dataset, [189829, 81355])\n",
    "\n",
    "trainloader = torch.utils.data.DataLoader(dataset, batch_size=25, shuffle=True)\n",
    "\n",
    "dataiter = iter(trainloader)\n",
    "images, labels = dataiter.next()\n",
    "\n",
    "img_grid = torchvision.utils.make_grid(images)\n",
    "\n",
    "idx_to_class = {v: k for k, v in dataset.class_to_idx.items()}"
   ]
  },
  {
   "cell_type": "code",
   "execution_count": null,
   "metadata": {},
   "outputs": [],
   "source": [
    "np.unique(dataset.targets,return_counts=True)"
   ]
  },
  {
   "cell_type": "code",
   "execution_count": null,
   "metadata": {},
   "outputs": [],
   "source": [
    "len(dataset.targets)"
   ]
  },
  {
   "cell_type": "code",
   "execution_count": null,
   "metadata": {},
   "outputs": [],
   "source": [
    "labels1 = [id2label[idx_to_class[i]] for i in range(len(dataset.classes))]"
   ]
  },
  {
   "cell_type": "code",
   "execution_count": null,
   "metadata": {},
   "outputs": [],
   "source": [
    "labels1"
   ]
  },
  {
   "cell_type": "code",
   "execution_count": null,
   "metadata": {},
   "outputs": [],
   "source": [
    "dataset.classes"
   ]
  },
  {
   "cell_type": "code",
   "execution_count": null,
   "metadata": {},
   "outputs": [],
   "source": [
    "def show(img):\n",
    "    npimg = img.numpy()\n",
    "    plt.figure(figsize=[15,10])\n",
    "    plt.imshow(np.transpose(npimg, (1,2,0)), interpolation='nearest')\n",
    "show(img_grid)"
   ]
  },
  {
   "cell_type": "code",
   "execution_count": null,
   "metadata": {},
   "outputs": [],
   "source": [
    "train_size = 0.7*len(dataset)\n",
    "val_size = 0.3*len(dataset)\n",
    "print(\"full size\",len(dataset))\n",
    "print(\"train size\",train_size)\n",
    "print(\"val size\",val_size)\n",
    "189829+81355"
   ]
  },
  {
   "cell_type": "code",
   "execution_count": 10,
   "metadata": {},
   "outputs": [],
   "source": [
    "def matplotlib_imshow(img, one_channel=False):\n",
    "    if one_channel:\n",
    "        img = img.mean(dim=0)\n",
    "    #img = img / 2 + 0.5     # unnormalize\n",
    "    npimg = img.numpy()\n",
    "    if one_channel:\n",
    "        plt.imshow(npimg, cmap=\"Greys\")\n",
    "    else:\n",
    "        plt.imshow(np.transpose(npimg, (1, 2, 0)))\n",
    "        \n",
    "def plot_classes_preds(images, labels):\n",
    "    \n",
    "    # plot the images in the batch, along with predicted and true labels\n",
    "    fig = plt.figure(figsize=(10, 10))\n",
    "    for idx in np.arange(len(images)):\n",
    "        ax = fig.add_subplot(5, 5, idx+1, xticks=[], yticks=[])\n",
    "        ax.set_title(id2label[idx_to_class[labels[idx].item()]])\n",
    "        matplotlib_imshow(images[idx])\n",
    "    return fig\n",
    "#writer = SummaryWriter('runs/Object_detection_experiment_'+str(np.random.randint(0,1000)),flush_secs=1)\n",
    "#writer.add_figure('Images and labels', plot_classes_preds(images, labels))"
   ]
  },
  {
   "cell_type": "code",
   "execution_count": null,
   "metadata": {},
   "outputs": [],
   "source": [
    "plot_classes_preds(images, labels)"
   ]
  },
  {
   "cell_type": "raw",
   "metadata": {
    "colab": {
     "base_uri": "https://localhost:8080/"
    },
    "executionInfo": {
     "elapsed": 1193968,
     "status": "ok",
     "timestamp": 1613779493024,
     "user": {
      "displayName": "Natnael Taye",
      "photoUrl": "https://lh3.googleusercontent.com/a-/AOh14GhLsOfPayUDuhnA0fYfbsxcWRCTOwPzHALWfRPL8g=s64",
      "userId": "14979943471241687010"
     },
     "user_tz": 300
    },
    "id": "kX-bASRrt76o",
    "outputId": "06acb43d-e988-4059-81f1-b9ce8150f277"
   },
   "source": [
    "new_pixel_areas = []\n",
    "old_pixel_areas = []\n",
    "low_thresh = 6\n",
    "high_thresh = 10\n",
    "filtered_images_count = 0\n",
    "filtered_image_dir = data_dir+'new_train_images_filtered/'\n",
    "with tqdm(total=60, position=0, leave=True) as pbar:\n",
    "    for subdir, dirs, files in tqdm(os.walk(data_dir+'new_train_images/'), position=0, leave=True):\n",
    "        for filename in files:\n",
    "            filepath = subdir + os.sep + filename\n",
    "            if filepath.endswith(\".jpg\"):\n",
    "                img_PIL = Image.open(filepath)\n",
    "                img = np.array(img_PIL)\n",
    "                area = img.shape[0]*img.shape[1]\n",
    "                old_pixel_areas.append(area)\n",
    "                if (np.log(area) < high_thresh) and (np.log(area) > low_thresh):\n",
    "                    img_PIL.save(filtered_image_dir+subdir[-2:]+os.sep+filename)\n",
    "                    filtered_images_count+=1\n",
    "                    new_pixel_areas.append(area)\n",
    "                    \n",
    "        pbar.update()\n",
    "print(\"filtered images\",filtered_images_count)"
   ]
  },
  {
   "cell_type": "code",
   "execution_count": 11,
   "metadata": {},
   "outputs": [
    {
     "data": {
      "text/plain": [
       "{'1': 'Plane',\n",
       " '2': 'Small Car',\n",
       " '3': 'Pickup Utility Truck',\n",
       " '4': 'CargoBoxFlatbedTrucks',\n",
       " '5': 'Truck Tractor',\n",
       " '6': 'Trailer',\n",
       " '7': 'Bus',\n",
       " '8': 'Passenger Car',\n",
       " '9': 'Cargo/Container Car',\n",
       " '10': 'Motorboat',\n",
       " '11': 'SailTugBoats',\n",
       " '12': 'FerryYacht',\n",
       " '13': 'Dump Truck',\n",
       " '14': 'TractorBulldozer',\n",
       " '15': 'Excavator',\n",
       " '16': 'Fishing Vessel',\n",
       " '17': 'Hut/Tent',\n",
       " '18': 'Shed',\n",
       " '19': 'Damaged Building',\n",
       " '20': 'Vehicle Lot',\n",
       " '21': 'Storage Tank',\n",
       " '22': 'Shipping container lot'}"
      ]
     },
     "execution_count": 11,
     "metadata": {},
     "output_type": "execute_result"
    }
   ],
   "source": [
    "id2label"
   ]
  },
  {
   "cell_type": "code",
   "execution_count": 91,
   "metadata": {
    "id": "AueqaC_gBnJV"
   },
   "outputs": [
    {
     "data": {
      "text/plain": [
       "22"
      ]
     },
     "execution_count": 91,
     "metadata": {},
     "output_type": "execute_result"
    }
   ],
   "source": [
    "valid_chip_names = load(\"valid_chip_names.pkl\")\n",
    "\n",
    "id2label = load(\"class_to_label_22classes.pkl\")\n",
    "\n",
    "label2id = {v:k for k,v in id2label.items()}\n",
    "\n",
    "len(id2label)"
   ]
  },
  {
   "cell_type": "code",
   "execution_count": 92,
   "metadata": {},
   "outputs": [
    {
     "data": {
      "text/plain": [
       "{'Plane': '1',\n",
       " 'Small Car': '2',\n",
       " 'Pickup Utility Truck': '3',\n",
       " 'CargoBoxFlatbedTrucks': '4',\n",
       " 'Truck Tractor': '5',\n",
       " 'Trailer': '6',\n",
       " 'Bus': '7',\n",
       " 'Passenger Car': '8',\n",
       " 'Cargo/Container Car': '9',\n",
       " 'Motorboat': '10',\n",
       " 'SailTugBoats': '11',\n",
       " 'FerryYacht': '12',\n",
       " 'Dump Truck': '13',\n",
       " 'TractorBulldozer': '14',\n",
       " 'Excavator': '15',\n",
       " 'Fishing Vessel': '16',\n",
       " 'Hut/Tent': '17',\n",
       " 'Shed': '18',\n",
       " 'Damaged Building': '19',\n",
       " 'Vehicle Lot': '20',\n",
       " 'Storage Tank': '21',\n",
       " 'Shipping container lot': '22'}"
      ]
     },
     "execution_count": 92,
     "metadata": {},
     "output_type": "execute_result"
    }
   ],
   "source": [
    "label2id"
   ]
  },
  {
   "cell_type": "code",
   "execution_count": 93,
   "metadata": {
    "colab": {
     "base_uri": "https://localhost:8080/"
    },
    "executionInfo": {
     "elapsed": 343542,
     "status": "ok",
     "timestamp": 1614106748089,
     "user": {
      "displayName": "Natnael Taye",
      "photoUrl": "https://lh3.googleusercontent.com/a-/AOh14GhLsOfPayUDuhnA0fYfbsxcWRCTOwPzHALWfRPL8g=s64",
      "userId": "14979943471241687010"
     },
     "user_tz": 300
    },
    "id": "sW0oK6W-_5n1",
    "outputId": "81ca46ff-c713-4cc5-9b07-df208252388b"
   },
   "outputs": [
    {
     "name": "stdout",
     "output_type": "stream",
     "text": [
      "3      Pickup Utility Truck      11747\n",
      "4     CargoBoxFlatbedTrucks       7230\n",
      "5             Truck Tractor        599\n",
      "7                       Bus       4824\n",
      "18                      Shed        801\n",
      "13                Dump Truck        945\n",
      "14          TractorBulldozer        493\n",
      "26639\n"
     ]
    }
   ],
   "source": [
    "total_num_of_images = 0\n",
    "class_counts = {}\n",
    "for subdir, dirs, files in os.walk(data_dir+'train_images_top7_weak_split/train'):\n",
    "    if len(files)>0:\n",
    "        print(f'{subdir[-2:].split(\"/\")[-1]} {id2label.get(subdir[-2:].split(\"/\")[-1],-1):>25} {len(files):>10}')\n",
    "        class_counts[id2label.get(subdir[-2:].split(\"/\")[-1],-1)] = len(files)\n",
    "        total_num_of_images+=len(files)\n",
    "print(total_num_of_images)"
   ]
  },
  {
   "cell_type": "code",
   "execution_count": 94,
   "metadata": {},
   "outputs": [
    {
     "data": {
      "text/plain": [
       "{'Pickup Utility Truck': 11747,\n",
       " 'CargoBoxFlatbedTrucks': 7230,\n",
       " 'Truck Tractor': 599,\n",
       " 'Bus': 4824,\n",
       " 'Shed': 801,\n",
       " 'Dump Truck': 945,\n",
       " 'TractorBulldozer': 493}"
      ]
     },
     "execution_count": 94,
     "metadata": {},
     "output_type": "execute_result"
    }
   ],
   "source": [
    "class_counts"
   ]
  },
  {
   "cell_type": "code",
   "execution_count": null,
   "metadata": {},
   "outputs": [],
   "source": [
    "total_num_of_images"
   ]
  },
  {
   "cell_type": "code",
   "execution_count": 18,
   "metadata": {},
   "outputs": [
    {
     "data": {
      "text/plain": [
       "'3'"
      ]
     },
     "execution_count": 18,
     "metadata": {},
     "output_type": "execute_result"
    }
   ],
   "source": [
    "'/3'.split('/')[-1]"
   ]
  },
  {
   "cell_type": "code",
   "execution_count": null,
   "metadata": {},
   "outputs": [],
   "source": [
    "clas"
   ]
  },
  {
   "cell_type": "code",
   "execution_count": null,
   "metadata": {},
   "outputs": [],
   "source": [
    "import copy\n",
    "a = copy.deepcopy(class_counts)"
   ]
  },
  {
   "cell_type": "code",
   "execution_count": null,
   "metadata": {},
   "outputs": [],
   "source": [
    "c_count = pd.DataFrame(list(class_counts.values()))\n",
    "c_count[c_count[0]>700].values[1:]\n",
    "small_subset_class = {}\n",
    "a = 0\n",
    "for label, count in class_counts.items():\n",
    "    \n",
    "    if count > 700 and count < 250000:\n",
    "        small_subset_class[label] = count\n",
    "        #print(label,count)\n",
    "        a+=count\n",
    "print(\"total\",a)\n",
    "print(small_subset_class)\n",
    "print(\"total confirm\",sum(list(small_subset_class.values())))\n",
    "print(\"len\",len(small_subset_class))\n",
    "#save('class_counts_24classes.pkl',small_subset_class)"
   ]
  },
  {
   "cell_type": "code",
   "execution_count": null,
   "metadata": {},
   "outputs": [],
   "source": [
    "new_classes = load('class_counts_24classes.pkl')\n",
    "#os.mkdir(data_dir+'train_images_24classes')\n",
    "# for i in list(new_classes.keys()):\n",
    "#     os.mkdir(data_dir+'train_images_24classes/'+str(int(label2id[i])))"
   ]
  },
  {
   "cell_type": "raw",
   "metadata": {},
   "source": [
    "f = data_dir+'new_train_images_filtered/'\n",
    "t = data_dir+'train_images_24classes/'\n",
    "valid_c = list(new_classes.keys())\n",
    "count1 = 0\n",
    "for subdir, dirs, files in os.walk(data_dir+'new_train_images_filtered/'):\n",
    "    a = subdir[-2:]\n",
    "    if id2label.get(a,-1) in valid_c:\n",
    "        for filename in files:\n",
    "            #print(subdir+os.sep+filename)\n",
    "            shutil.copy(subdir+os.sep+filename,t+os.sep+a)\n",
    "            count1+=1\n",
    "print(\"total count sanity\", count1)"
   ]
  },
  {
   "cell_type": "code",
   "execution_count": 27,
   "metadata": {},
   "outputs": [
    {
     "data": {
      "image/png": "[encoded data removed]",
      "text/plain": [
       "<Figure size 720x720 with 1 Axes>"
      ]
     },
     "metadata": {
      "needs_background": "light"
     },
     "output_type": "display_data"
    }
   ],
   "source": [
    "fig, ax = plt.subplots(figsize=[10,10])\n",
    "class_counts = sorted(class_counts.items(), key=lambda class_counts: class_counts[1])\n",
    "class_counts = {k: v for k, v in class_counts}\n",
    "real_count = list(class_counts.values())\n",
    "total_count = np.sum(real_count)\n",
    "bars = plt.barh(list(class_counts.keys()), np.log(np.array(list(class_counts.values()))), edgecolor='k',color='skyblue')\n",
    "\n",
    "for i,bar in enumerate(bars): \n",
    "    width = bar.get_width() +0.1\n",
    "    label_y_pos = bar.get_y() + 0.2 + bar.get_height() // 2\n",
    "    #ax.text(width,label_y_pos, s=f'{real_count[i]}',fontweight='bold',fontdict={'fontsize':14})\n",
    "    ax.text(width,label_y_pos, s=f'{np.round(1.0*real_count[i]/total_count,4)*100.0:.2f} %, {real_count[i]}',fontweight='bold',fontdict={'fontsize':14})\n",
    "    \n",
    "    if i > 44:\n",
    "        bar.set_color('#8f9805')\n",
    "        bar.set_edgecolor('k')\n",
    "\n",
    "for tick in ax.yaxis.get_major_ticks():\n",
    "    tick.label1.set_fontsize(14)\n",
    "    tick.label1.set_fontweight('bold')\n",
    "\n",
    "custom_lines = [Line2D([0], [0], color='#8f9805', lw=4)]\n",
    "#plt.legend(custom_lines,['Top 15 most frequent classes'],loc=5,fontsize='large')\n",
    "plt.title('Class Distribution (number of classes = ' + str(len(real_count))+')',fontdict={'fontsize':15,'fontweight':'bold'})\n",
    "plt.xlabel('Frequency (log scale)', fontdict={'fontsize':15,'fontweight':'bold'})\n",
    "plt.ylabel('Class', fontdict={'fontsize':15,'fontweight':'bold'})\n",
    "plt.xlim(0,14)\n",
    "\n",
    "plt.show()"
   ]
  },
  {
   "cell_type": "raw",
   "metadata": {},
   "source": [
    "\n",
    "for subdir, dirs, files in os.walk(data_dir+'train_images_top5_weak/train'):\n",
    "    c = 0\n",
    "    for filename in files:\n",
    "        #print(subdir+'/'+filename)\n",
    "        c+=1\n",
    "        if c > 620:\n",
    "            #print(\"cut here\")\n",
    "            os.remove(subdir+'/'+filename)"
   ]
  },
  {
   "cell_type": "code",
   "execution_count": null,
   "metadata": {},
   "outputs": [],
   "source": [
    "plt.savefig('test_saving1.png')"
   ]
  },
  {
   "cell_type": "code",
   "execution_count": null,
   "metadata": {},
   "outputs": [],
   "source": [
    "fig.savefig('test_saving2.png', bbox_inches='tight')"
   ]
  },
  {
   "cell_type": "code",
   "execution_count": null,
   "metadata": {},
   "outputs": [],
   "source": [
    "save_plot_directory = os.path.join('./runs', os.sep, 'resnet50',os.sep,'blah')"
   ]
  },
  {
   "cell_type": "code",
   "execution_count": null,
   "metadata": {},
   "outputs": [],
   "source": [
    "save_plot_directory"
   ]
  },
  {
   "cell_type": "code",
   "execution_count": null,
   "metadata": {},
   "outputs": [],
   "source": [
    "f = open('old_pixel_areas.pkl','rb')\n",
    "old_pixel_areas = pickle.load(f)\n",
    "plt.figure(figsize=[10,6])\n",
    "plt.hist(np.log(np.array(old_pixel_areas)),bins=50,color='skyblue',ec=\"k\")\n",
    "\n",
    "plt.title('Histogram of pixel areas before resampling \\n Total number of images = 593,091',fontdict={'fontsize':14,'fontweight':'bold'})\n",
    "plt.xlabel('Frequency (log scale)', fontdict={'fontsize':14,'fontweight':'bold'})\n",
    "plt.ylabel('Class', fontdict={'fontsize':14,'fontweight':'bold'})\n",
    "plt.xlim(5,14)\n",
    "\n",
    "plt.show()"
   ]
  },
  {
   "cell_type": "code",
   "execution_count": null,
   "metadata": {},
   "outputs": [],
   "source": [
    "f = open('new_pixel_areas.pkl','rb')\n",
    "new_pixel_areas = pickle.load(f)\n",
    "plt.figure(figsize=[10,6])\n",
    "plt.hist(np.log(np.array(new_pixel_areas)),bins=20,color='skyblue',ec=\"k\")\n",
    "\n",
    "plt.title('Histogram of pixel areas after resampling \\n Total number of images = 581,470',fontdict={'fontsize':14,'fontweight':'bold'})\n",
    "plt.xlabel('Frequency (log scale)', fontdict={'fontsize':14,'fontweight':'bold'})\n",
    "plt.ylabel('Class', fontdict={'fontsize':14,'fontweight':'bold'})\n",
    "plt.xlim(5,14)\n",
    "\n",
    "plt.show()"
   ]
  },
  {
   "cell_type": "raw",
   "metadata": {
    "id": "NlkuBRX2L8Dv"
   },
   "source": [
    "!mkdir ../backup_new_train_images_2/"
   ]
  },
  {
   "cell_type": "raw",
   "metadata": {
    "id": "W4MIF4q3MDK0"
   },
   "source": [
    "!cp -r ../new_train_images_2/ ../backup_new_train_images_2/"
   ]
  },
  {
   "cell_type": "raw",
   "metadata": {
    "colab": {
     "base_uri": "https://localhost:8080/"
    },
    "id": "5HYUbIKQR24z",
    "outputId": "f7453e00-3ff4-487d-c5a0-4d0f0facdee4"
   },
   "source": [
    "!rm -r data/new_train_images_filtered/"
   ]
  },
  {
   "cell_type": "raw",
   "metadata": {
    "colab": {
     "base_uri": "https://localhost:8080/"
    },
    "id": "L578NP41NDSv",
    "outputId": "2b903862-c7b4-4ca2-cd0c-3e4dd806fc8a"
   },
   "source": [
    "!mkdir ../new_train_images_2"
   ]
  },
  {
   "cell_type": "raw",
   "metadata": {
    "id": "T0jqvGjly4MM"
   },
   "source": [
    "for i in list(unique.astype('int64')):\n",
    "  os.mkdir(data_dir+'new_train_images/'+str(i))"
   ]
  },
  {
   "cell_type": "raw",
   "metadata": {
    "id": "k4UEWj1-Bvat"
   },
   "source": [
    "!pwd"
   ]
  },
  {
   "cell_type": "raw",
   "metadata": {
    "id": "ste3stp6S3WU"
   },
   "source": [
    "!mkdir data/new_train_images"
   ]
  },
  {
   "cell_type": "raw",
   "metadata": {
    "id": "h35QU-I1LHpN"
   },
   "source": [
    "os.mkdir(data_dir+'new_train_images_filtered')\n",
    "for i in list(id2label.keys()):\n",
    "  os.mkdir(data_dir+'new_train_images_filtered/'+str(int(i)))"
   ]
  },
  {
   "cell_type": "raw",
   "metadata": {},
   "source": [
    "len(unique)"
   ]
  },
  {
   "cell_type": "raw",
   "metadata": {},
   "source": [
    "len(id2label.keys())"
   ]
  },
  {
   "cell_type": "raw",
   "metadata": {
    "colab": {
     "base_uri": "https://localhost:8080/"
    },
    "executionInfo": {
     "elapsed": 94552,
     "status": "ok",
     "timestamp": 1614106342462,
     "user": {
      "displayName": "Natnael Taye",
      "photoUrl": "https://lh3.googleusercontent.com/a-/AOh14GhLsOfPayUDuhnA0fYfbsxcWRCTOwPzHALWfRPL8g=s64",
      "userId": "14979943471241687010"
     },
     "user_tz": 300
    },
    "id": "OEGNHHlN1pKO",
    "outputId": "61b9eed3-b286-4f15-c830-3155af7dd8f0"
   },
   "source": [
    "from google.colab import drive\n",
    "drive.mount('/content/drive')"
   ]
  },
  {
   "cell_type": "raw",
   "metadata": {},
   "source": [
    "import requests \n",
    "from tqdm import tqdm\n",
    "file_url = [\"https://d307kc0mrhucc3.cloudfront.net/train_images.tgz?Expires=1614387555&Signature=NBrilUhHPZgQPsWZLnt1z~qxZw3joeiA7X9wD0FxZBFdrwZgURgew0q2RJitOpwrs~DanTIpBESPz3kB6wvpD89-Xhyn9L3GxQioWSylbmkKHRKNdhCvmnwOsKuJ11vrBogBDdtilVlfnGeIT1e9ERh~fYkfKJQlpP8wEUJE3TVvSjSZ6yb7fpeq6XlQEgXiky7~wxYtr457D3c5fwLJdotnDFJAVU2rDnhevv4~PhLwDXFCdB5Fq-MLqCAn5gOAtZtuW643r~hluwiov9Xezhk2uvAaQeQJNwupl3DfFc4lbxYVaiXRP5-ApCi~U~cYq0D-BUqF3XxYDN4pRYXc7A__&Key-Pair-Id=APKAIKGDJB5C3XUL2DXQ\",\n",
    "            \"https://d307kc0mrhucc3.cloudfront.net/train_labels.tgz?Expires=1614387555&Signature=e~93prunA1dNTN22YV4-fJ4VOnFjWce1DiU2kLkmZkMu5UbEesBh5Hrqr9gRsF~6F6-hkoi-bGbDyGS2h7DZ9cAATbNV7Ka8ILgxl75xhR468e6Sahzo4IeJdJFhoJ4TNS~UoJX4s~mNjwhOAeJ-BhKr2nJ~aB9G1iRV-MNi0Q~ibtHxv3We7KWG3p9PNM-4nnOTGnKK9OwTlhMesXBnkk206ahOJVidlfL3-XlaW6zQiPHeAX4X-BA8xHbcR5JS99Y6FvL-u5nioNvI2MTPWcSyJZuWAp9q1E9jZ8yS~N2qoENUq0XLMrTCpDgjlrAuXmuHjTJxJo50uwSj2nPkg__&Key-Pair-Id=APKAIKGDJB5C3XUL2DXQ\"]            \n",
    "r = requests.get(file_url[1], stream = True) \n",
    "\n",
    "with open(work_dir+'/train_labels.tgz', \"wb\") as file:\n",
    "    for block in r.iter_content(chunk_size = 1024):\n",
    "        if block:\n",
    "            file.write(block) "
   ]
  },
  {
   "cell_type": "code",
   "execution_count": 13,
   "metadata": {},
   "outputs": [
    {
     "name": "stderr",
     "output_type": "stream",
     "text": [
      "Copying files: 38061 files [00:03, 11566.20 files/s]\n"
     ]
    }
   ],
   "source": [
    "import splitfolders  # or import split_folders\n",
    "\n",
    "# Split with a ratio.\n",
    "# To only split into training and validation set, set a tuple to `ratio`, i.e, `(.8, .2)`.\n",
    "splitfolders.ratio(data_dir+'train_images_top7_weak/', output=data_dir+'train_images_top7_weak/', seed=1337, ratio=(.7, .3), group_prefix=None) # default values\n",
    "\n",
    "# Split val/test with a fixed number of items e.g. 100 for each set.\n",
    "# To only split into training and validation set, use a single number to `fixed`, i.e., `10`.\n",
    "#splitfolders.fixed(\"input_folder\", output=\"output\", seed=1337, fixed=(100, 100), oversample=False, group_prefix=None) # default values"
   ]
  },
  {
   "cell_type": "code",
   "execution_count": null,
   "metadata": {},
   "outputs": [],
   "source": [
    "!pwd"
   ]
  },
  {
   "cell_type": "raw",
   "metadata": {},
   "source": [
    "!mkdir data/train_images_24classes_split"
   ]
  },
  {
   "cell_type": "code",
   "execution_count": null,
   "metadata": {},
   "outputs": [],
   "source": [
    "!pip install split-folders"
   ]
  },
  {
   "cell_type": "code",
   "execution_count": null,
   "metadata": {},
   "outputs": [],
   "source": [
    "data_dir+'train_images_24classess_split'"
   ]
  },
  {
   "cell_type": "code",
   "execution_count": null,
   "metadata": {},
   "outputs": [],
   "source": [
    "splitfolders.ratio()"
   ]
  },
  {
   "cell_type": "code",
   "execution_count": null,
   "metadata": {},
   "outputs": [],
   "source": [
    "import torch.nn as nn\n",
    "\n",
    "net = nn.Sequential(nn.Linear(20, 6), nn.Linear(6, 3))"
   ]
  },
  {
   "cell_type": "code",
   "execution_count": null,
   "metadata": {},
   "outputs": [],
   "source": [
    "net[0]"
   ]
  },
  {
   "cell_type": "code",
   "execution_count": null,
   "metadata": {},
   "outputs": [],
   "source": [
    "from models.resnet import resnet18"
   ]
  },
  {
   "cell_type": "code",
   "execution_count": null,
   "metadata": {},
   "outputs": [],
   "source": [
    "net = resnet18(5)"
   ]
  },
  {
   "cell_type": "code",
   "execution_count": null,
   "metadata": {},
   "outputs": [],
   "source": [
    "net"
   ]
  },
  {
   "cell_type": "code",
   "execution_count": null,
   "metadata": {},
   "outputs": [],
   "source": [
    "net"
   ]
  },
  {
   "cell_type": "code",
   "execution_count": null,
   "metadata": {},
   "outputs": [],
   "source": [
    "for name, param in net.named_parameters():\n",
    "    if param.requires_grad:\n",
    "        print(name)"
   ]
  },
  {
   "cell_type": "code",
   "execution_count": null,
   "metadata": {},
   "outputs": [],
   "source": [
    "for name,param in net.named_parameters():\n",
    "    print(name)"
   ]
  },
  {
   "cell_type": "code",
   "execution_count": null,
   "metadata": {},
   "outputs": [],
   "source": [
    "list(net.children())[-1].named"
   ]
  },
  {
   "cell_type": "code",
   "execution_count": null,
   "metadata": {},
   "outputs": [],
   "source": [
    "net.train()"
   ]
  },
  {
   "cell_type": "code",
   "execution_count": null,
   "metadata": {},
   "outputs": [],
   "source": [
    "input_tensor = torch.Tensor(10, 3, 64, 64)"
   ]
  },
  {
   "cell_type": "code",
   "execution_count": null,
   "metadata": {},
   "outputs": [],
   "source": [
    "net = net.cuda()\n",
    "output = net(input_tensor)"
   ]
  },
  {
   "cell_type": "code",
   "execution_count": null,
   "metadata": {},
   "outputs": [],
   "source": [
    "a, b = output.max(1)"
   ]
  },
  {
   "cell_type": "code",
   "execution_count": null,
   "metadata": {},
   "outputs": [],
   "source": [
    "b.tolist()"
   ]
  },
  {
   "cell_type": "code",
   "execution_count": null,
   "metadata": {},
   "outputs": [],
   "source": [
    "f = []"
   ]
  },
  {
   "cell_type": "code",
   "execution_count": null,
   "metadata": {},
   "outputs": [],
   "source": [
    "f.extend(b.tolist())"
   ]
  },
  {
   "cell_type": "code",
   "execution_count": null,
   "metadata": {},
   "outputs": [],
   "source": [
    "f"
   ]
  },
  {
   "cell_type": "code",
   "execution_count": null,
   "metadata": {},
   "outputs": [],
   "source": [
    "images, labels = next(iter(trainloader))"
   ]
  },
  {
   "cell_type": "code",
   "execution_count": null,
   "metadata": {},
   "outputs": [],
   "source": [
    "images.shape"
   ]
  },
  {
   "cell_type": "code",
   "execution_count": null,
   "metadata": {},
   "outputs": [],
   "source": [
    "labels"
   ]
  },
  {
   "cell_type": "code",
   "execution_count": null,
   "metadata": {},
   "outputs": [],
   "source": [
    "labels.tolist()"
   ]
  },
  {
   "cell_type": "code",
   "execution_count": null,
   "metadata": {},
   "outputs": [],
   "source": [
    "!nvidia-msi"
   ]
  },
  {
   "cell_type": "code",
   "execution_count": 6,
   "metadata": {},
   "outputs": [],
   "source": [
    "def get_mean_std(loader):\n",
    "    channels_sum, channels_squared_sum, num_batches = 0.0, 0.0, 0\n",
    "    \n",
    "    for data, _ in loader:\n",
    "        channels_sum += torch.mean(data, dim=[0,2,3])\n",
    "        channels_squared_sum += torch.mean(data**2, dim=[0,2,3])\n",
    "        num_batches += 1\n",
    "        \n",
    "    mean = channels_sum/num_batches\n",
    "    std = (channels_squared_sum/num_batches - mean**2)**0.5\n",
    "    \n",
    "    return mean, std"
   ]
  },
  {
   "cell_type": "code",
   "execution_count": 110,
   "metadata": {},
   "outputs": [],
   "source": [
    "transform=transforms.Compose([\n",
    "            transforms.Resize((32,32)),\n",
    "            transforms.ToTensor()])\n",
    "data_dir = './data/'\n",
    "#os.chdir('../CAP5610/project/')\n",
    "dataset = ImageFolder(data_dir+'train',transform=transform,)\n",
    "\n",
    "#trainset, valset = random_split(dataset, [189829, 81355])\n",
    "\n",
    "trainloader = torch.utils.data.DataLoader(dataset, batch_size=128, shuffle=False)"
   ]
  },
  {
   "cell_type": "code",
   "execution_count": null,
   "metadata": {},
   "outputs": [],
   "source": []
  },
  {
   "cell_type": "code",
   "execution_count": 111,
   "metadata": {},
   "outputs": [
    {
     "data": {
      "text/plain": [
       "(tensor([0.4152, 0.2218, 0.0741]), tensor([0.2658, 0.1433, 0.0785]))"
      ]
     },
     "execution_count": 111,
     "metadata": {},
     "output_type": "execute_result"
    }
   ],
   "source": [
    "get_mean_std(trainloader)"
   ]
  },
  {
   "cell_type": "code",
   "execution_count": null,
   "metadata": {},
   "outputs": [],
   "source": [
    "trainloader_new = torch.utils.data.DataLoader(dataset, batch_size=len(dataset))"
   ]
  },
  {
   "cell_type": "code",
   "execution_count": 10,
   "metadata": {},
   "outputs": [],
   "source": [
    "a = next(iter(trainloader_new))"
   ]
  },
  {
   "cell_type": "code",
   "execution_count": 11,
   "metadata": {},
   "outputs": [],
   "source": [
    "img, labels = a"
   ]
  },
  {
   "cell_type": "code",
   "execution_count": 108,
   "metadata": {},
   "outputs": [
    {
     "data": {
      "text/plain": [
       "torch.Size([2929, 3, 32, 32])"
      ]
     },
     "execution_count": 108,
     "metadata": {},
     "output_type": "execute_result"
    }
   ],
   "source": [
    "img.shape"
   ]
  },
  {
   "cell_type": "code",
   "execution_count": 12,
   "metadata": {},
   "outputs": [
    {
     "data": {
      "text/plain": [
       "tensor([0.4152, 0.2218, 0.0740])"
      ]
     },
     "execution_count": 12,
     "metadata": {},
     "output_type": "execute_result"
    }
   ],
   "source": [
    "img.mean([0,2,3])"
   ]
  },
  {
   "cell_type": "code",
   "execution_count": 13,
   "metadata": {},
   "outputs": [
    {
     "data": {
      "text/plain": [
       "tensor([0.2659, 0.1433, 0.0786])"
      ]
     },
     "execution_count": 13,
     "metadata": {},
     "output_type": "execute_result"
    }
   ],
   "source": [
    "img.std([0,2,3])"
   ]
  },
  {
   "cell_type": "code",
   "execution_count": null,
   "metadata": {},
   "outputs": [],
   "source": [
    "x = torch.Tensor(5,3,4,4)"
   ]
  },
  {
   "cell_type": "code",
   "execution_count": 14,
   "metadata": {},
   "outputs": [
    {
     "data": {
      "text/plain": [
       "'/home/abhijit/nat/CAP5610/project'"
      ]
     },
     "execution_count": 14,
     "metadata": {},
     "output_type": "execute_result"
    }
   ],
   "source": [
    "pwd"
   ]
  },
  {
   "cell_type": "code",
   "execution_count": null,
   "metadata": {},
   "outputs": [],
   "source": [
    "torch.mean(x,[0,2,3])"
   ]
  },
  {
   "cell_type": "code",
   "execution_count": null,
   "metadata": {},
   "outputs": [],
   "source": [
    "torch.mean(x[:,2,:,:])"
   ]
  },
  {
   "cell_type": "code",
   "execution_count": null,
   "metadata": {},
   "outputs": [],
   "source": [
    "len(dataset)"
   ]
  },
  {
   "cell_type": "code",
   "execution_count": null,
   "metadata": {},
   "outputs": [],
   "source": [
    "import ssl\n",
    "ssl._create_default_https_context = ssl._create_unverified_context\n",
    "resnet50 = torchvision.models.resnet50(pretrained=True)"
   ]
  },
  {
   "cell_type": "code",
   "execution_count": null,
   "metadata": {},
   "outputs": [],
   "source": [
    "print(f'{\"model\":<35} {\"requires grad\":<10}')\n",
    "for name, param in resnet50.named_parameters():\n",
    "    print(f'{name:<35} {str(param.requires_grad):<10}')"
   ]
  },
  {
   "cell_type": "code",
   "execution_count": null,
   "metadata": {},
   "outputs": [],
   "source": [
    "for param in resnet50.parameters():\n",
    "    param.requires_grad = False\n",
    "\n",
    "# Parameters of newly constructed modules have requires_grad=True by default\n",
    "num_ftrs = resnet50.fc.in_features\n",
    "resnet50.fc = nn.Linear(num_ftrs, 2)"
   ]
  },
  {
   "cell_type": "code",
   "execution_count": null,
   "metadata": {},
   "outputs": [],
   "source": [
    "print(f'{\"model\":<35} {\"requires grad\":<10}')\n",
    "for name, param in resnet50.named_parameters():\n",
    "      layer, attr = os.path.splitext(name)\n",
    "    print(f'{name:<35} {str(param.requires_grad):<10}')"
   ]
  },
  {
   "cell_type": "code",
   "execution_count": null,
   "metadata": {},
   "outputs": [],
   "source": [
    "resnet50.conv1"
   ]
  },
  {
   "cell_type": "code",
   "execution_count": null,
   "metadata": {},
   "outputs": [],
   "source": [
    "for name, param in net.named_parameters():\n",
    "    layer, attr = os.path.splitext(name)\n",
    "    print(\"layer\",layer, \"attr\", attr)"
   ]
  },
  {
   "cell_type": "code",
   "execution_count": null,
   "metadata": {},
   "outputs": [],
   "source": [
    "input_tensor = torch.Tensor(1, 3, 32, 32)"
   ]
  },
  {
   "cell_type": "code",
   "execution_count": null,
   "metadata": {},
   "outputs": [],
   "source": [
    "from utils import *"
   ]
  },
  {
   "cell_type": "code",
   "execution_count": null,
   "metadata": {},
   "outputs": [],
   "source": [
    "net = Net()"
   ]
  },
  {
   "cell_type": "code",
   "execution_count": null,
   "metadata": {},
   "outputs": [],
   "source": [
    "y = net(input_tensor)"
   ]
  },
  {
   "cell_type": "code",
   "execution_count": null,
   "metadata": {},
   "outputs": [],
   "source": [
    "y"
   ]
  },
  {
   "cell_type": "code",
   "execution_count": null,
   "metadata": {},
   "outputs": [],
   "source": [
    "net"
   ]
  },
  {
   "cell_type": "code",
   "execution_count": null,
   "metadata": {},
   "outputs": [],
   "source": [
    "input_tensor"
   ]
  },
  {
   "cell_type": "code",
   "execution_count": null,
   "metadata": {},
   "outputs": [],
   "source": [
    "import pandas as pd\n",
    "test_loss50 = pd.read_csv('run-resnet50_Saturday_13_March_2021_04h_22m_07s-tag-Test_Average loss.csv')\n",
    "test_acc50 = pd.read_csv('run-resnet50_Saturday_13_March_2021_04h_22m_07s-tag-Test_Accuracy.csv')\n",
    "test_loss18 = pd.read_csv('run-resnet18_Saturday_13_March_2021_15h_23m_49s-tag-Test_Average loss.csv')\n",
    "test_acc18 =pd.read_csv('run-resnet18_Saturday_13_March_2021_15h_23m_49s-tag-Test_Accuracy.csv')"
   ]
  },
  {
   "cell_type": "code",
   "execution_count": null,
   "metadata": {},
   "outputs": [],
   "source": [
    "test_loss50_x = test_loss50.Step.values\n",
    "test_loss50_y = test_loss50.Value.values\n",
    "\n",
    "test_loss18_x = test_loss18.Step.values\n",
    "test_loss18_y = test_loss18.Value.values\n",
    "\n",
    "test_acc50_x = test_acc50.Step.values\n",
    "test_acc50_y = test_acc50.Value.values\n",
    "\n",
    "test_acc18_x = test_acc18.Step.values\n",
    "test_acc18_y = test_acc18.Value.values"
   ]
  },
  {
   "cell_type": "code",
   "execution_count": null,
   "metadata": {},
   "outputs": [],
   "source": [
    "plt.plot(test_loss50_x,test_loss50_y , 'b', label='ResNet50')\n",
    "plt.plot(test_loss18_x[:49],test_loss18_y[:49] , 'r', label='ResNet18')\n",
    "plt.title('Test loss')\n",
    "plt.xlabel('Epoch')\n",
    "plt.ylabel('Loss')\n",
    "plt.legend()\n",
    "plt.show()"
   ]
  },
  {
   "cell_type": "code",
   "execution_count": null,
   "metadata": {},
   "outputs": [],
   "source": [
    "plt.plot(test_acc50_x, test_acc50_y , 'b', label='ResNet50')\n",
    "plt.plot(test_acc18_x[:49],test_acc18_y[:49] , 'r', label='ResNet18')\n",
    "plt.title('Test accuracy')\n",
    "plt.xlabel('Epoch')\n",
    "plt.ylabel('Accuracy')\n",
    "plt.legend()\n",
    "plt.show()"
   ]
  },
  {
   "cell_type": "code",
   "execution_count": null,
   "metadata": {},
   "outputs": [],
   "source": [
    "test_acc18"
   ]
  },
  {
   "cell_type": "code",
   "execution_count": null,
   "metadata": {},
   "outputs": [],
   "source": [
    "test_acc50"
   ]
  },
  {
   "cell_type": "code",
   "execution_count": null,
   "metadata": {},
   "outputs": [],
   "source": [
    "import os \n",
    "os.chdir('./imbalanced-dataset-sampler')\n",
    "!python setup.py install\n",
    "!pip install ."
   ]
  },
  {
   "cell_type": "code",
   "execution_count": 141,
   "metadata": {},
   "outputs": [],
   "source": [
    "transform=transforms.Compose([\n",
    "            transforms.Resize((32,32)),\n",
    "            transforms.ToTensor()])\n",
    "\n",
    "dataset = ImageFolder(data_dir+'train_images_22classes_split/train',transform=transform,)\n",
    "\n",
    "trainloader = torch.utils.data.DataLoader(dataset, batch_size=25, shuffle=True)"
   ]
  },
  {
   "cell_type": "code",
   "execution_count": 142,
   "metadata": {},
   "outputs": [],
   "source": [
    "x = np.unique(dataset.targets, return_counts=True)[1]"
   ]
  },
  {
   "cell_type": "code",
   "execution_count": 146,
   "metadata": {},
   "outputs": [
    {
     "data": {
      "text/plain": [
       "array([0.0043909 , 0.00681392, 0.00426372, 0.00283802, 0.0063253 ,\n",
       "       0.00329987, 0.00391566, 0.00341365, 0.00329317, 0.00536145,\n",
       "       0.00480589, 1.        , 0.01491968, 0.00753681, 0.0084739 ,\n",
       "       0.07862784, 0.04839357, 0.00400937, 0.01900268, 0.03228916,\n",
       "       0.00747657, 0.00852744])"
      ]
     },
     "execution_count": 146,
     "metadata": {},
     "output_type": "execute_result"
    }
   ],
   "source": [
    "max(x)/x"
   ]
  },
  {
   "cell_type": "code",
   "execution_count": null,
   "metadata": {},
   "outputs": [],
   "source": [
    "x"
   ]
  },
  {
   "cell_type": "code",
   "execution_count": null,
   "metadata": {},
   "outputs": [],
   "source": [
    "one_batch = next(iter(trainloader))"
   ]
  },
  {
   "cell_type": "code",
   "execution_count": null,
   "metadata": {},
   "outputs": [],
   "source": [
    "unique, counts = np.unique(one_batch[1].numpy(), return_counts=True)"
   ]
  },
  {
   "cell_type": "code",
   "execution_count": null,
   "metadata": {},
   "outputs": [],
   "source": [
    "from data_utilities.read_write import *\n",
    "index_to_class = {index: classs for classs, index in dataset.class_to_idx.items()} \n",
    "\n",
    "class_to_label = load(\"class_to_label_map.pkl\")\n",
    "\n",
    "class_names = [class_to_label[index_to_class[i]] for i in unique]"
   ]
  },
  {
   "cell_type": "code",
   "execution_count": null,
   "metadata": {},
   "outputs": [],
   "source": [
    "class_names"
   ]
  },
  {
   "cell_type": "code",
   "execution_count": null,
   "metadata": {},
   "outputs": [],
   "source": [
    "counts"
   ]
  },
  {
   "cell_type": "code",
   "execution_count": null,
   "metadata": {},
   "outputs": [],
   "source": [
    "total_num_of_images = 0\n",
    "class_counts = {}\n",
    "for subdir, dirs, files in os.walk(data_dir+'train_images_24classes_split/train'):\n",
    "    if len(files)>0:\n",
    "        print(f'{id2label.get(subdir[-2:],-1):>25} {len(files):>10}')\n",
    "        class_counts[id2label.get(subdir[-2:],-1)] = len(files)\n",
    "        total_num_of_images+=len(files)\n",
    "print(total_num_of_images)"
   ]
  },
  {
   "cell_type": "code",
   "execution_count": null,
   "metadata": {},
   "outputs": [],
   "source": [
    "from torchsampler import ImbalancedDatasetSampler\n",
    "\n",
    "balanced_train_loader = torch.utils.data.DataLoader(\n",
    "    dataset, \n",
    "    sampler=ImbalancedDatasetSampler(dataset),\n",
    "    batch_size=25)"
   ]
  },
  {
   "cell_type": "code",
   "execution_count": null,
   "metadata": {},
   "outputs": [],
   "source": [
    "balanced_one_batch = next(iter(balanced_train_loader))"
   ]
  },
  {
   "cell_type": "code",
   "execution_count": null,
   "metadata": {},
   "outputs": [],
   "source": [
    "balanced_unique, balanced_counts = np.unique(balanced_one_batch[1].numpy(), return_counts=True)"
   ]
  },
  {
   "cell_type": "code",
   "execution_count": null,
   "metadata": {},
   "outputs": [],
   "source": [
    "class_names = [class_to_label[index_to_class[i]] for i in balanced_unique]"
   ]
  },
  {
   "cell_type": "code",
   "execution_count": null,
   "metadata": {},
   "outputs": [],
   "source": [
    "balanced_counts"
   ]
  },
  {
   "cell_type": "code",
   "execution_count": null,
   "metadata": {},
   "outputs": [],
   "source": [
    "class_names"
   ]
  },
  {
   "cell_type": "code",
   "execution_count": null,
   "metadata": {},
   "outputs": [],
   "source": [
    "len(class_names)"
   ]
  },
  {
   "cell_type": "code",
   "execution_count": null,
   "metadata": {},
   "outputs": [],
   "source": [
    "for i in range(1,23):\n",
    "    os.mkdir('./data/train_images_22classes/'+str(i))"
   ]
  },
  {
   "cell_type": "code",
   "execution_count": null,
   "metadata": {},
   "outputs": [],
   "source": [
    "!ls -lh data/train_images_22classes/1"
   ]
  },
  {
   "cell_type": "code",
   "execution_count": 125,
   "metadata": {},
   "outputs": [
    {
     "name": "stderr",
     "output_type": "stream",
     "text": [
      "Copying files: 272769 files [30:44, 147.85 files/s] \n"
     ]
    }
   ],
   "source": [
    "import splitfolders  # or import split_folders\n",
    "\n",
    "# Split with a ratio.\n",
    "# To only split into training and validation set, set a tuple to `ratio`, i.e, `(.8, .2)`.\n",
    "splitfolders.ratio(data_dir+'train_images_22classes/', output=data_dir+'train_images_22classes_split', seed=1337, ratio=(.7, .3), group_prefix=None) # default values"
   ]
  },
  {
   "cell_type": "code",
   "execution_count": 133,
   "metadata": {},
   "outputs": [],
   "source": [
    "from utils import load_object, save_object\n",
    "class_to_label = load_object(\"class_to_label_map.pkl\")"
   ]
  },
  {
   "cell_type": "code",
   "execution_count": 130,
   "metadata": {},
   "outputs": [
    {
     "data": {
      "text/plain": [
       "{'11': 'Fixed-wing Aircraft',\n",
       " '12': 'Small Aircraft',\n",
       " '13': 'Cargo Plane',\n",
       " '15': 'Helicopter',\n",
       " '17': 'Passenger Vehicle',\n",
       " '18': 'Small Car',\n",
       " '19': 'Bus',\n",
       " '20': 'Pickup Truck',\n",
       " '21': 'Utility Truck',\n",
       " '23': 'Truck',\n",
       " '24': 'Cargo Truck',\n",
       " '25': 'Truck w/Box',\n",
       " '26': 'Truck Tractor',\n",
       " '27': 'Trailer',\n",
       " '28': 'Truck w/Flatbed',\n",
       " '29': 'Truck w/Liquid',\n",
       " '32': 'Crane Truck',\n",
       " '33': 'Railway Vehicle',\n",
       " '34': 'Passenger Car',\n",
       " '35': 'Cargo Car',\n",
       " '36': 'Flat Car',\n",
       " '37': 'Tank car',\n",
       " '38': 'Locomotive',\n",
       " '40': 'Maritime Vessel',\n",
       " '41': 'Motorboat',\n",
       " '42': 'Sailboat',\n",
       " '44': 'Tugboat',\n",
       " '45': 'Barge',\n",
       " '47': 'Fishing Vessel',\n",
       " '49': 'Ferry',\n",
       " '50': 'Yacht',\n",
       " '51': 'Container Ship',\n",
       " '52': 'Oil Tanker',\n",
       " '53': 'Engineering Vehicle',\n",
       " '54': 'Tower crane',\n",
       " '55': 'Container Crane',\n",
       " '56': 'Reach Stacker',\n",
       " '57': 'Straddle Carrier',\n",
       " '59': 'Mobile Crane',\n",
       " '60': 'Dump Truck',\n",
       " '61': 'Haul Truck',\n",
       " '62': 'Scraper/Tractor',\n",
       " '63': 'Front loader/Bulldozer',\n",
       " '64': 'Excavator',\n",
       " '65': 'Cement Mixer',\n",
       " '66': 'Ground Grader',\n",
       " '71': 'Hut/Tent',\n",
       " '72': 'Shed',\n",
       " '73': 'Building',\n",
       " '74': 'Aircraft Hangar',\n",
       " '76': 'Damaged Building',\n",
       " '77': 'Facility',\n",
       " '79': 'Construction Site',\n",
       " '83': 'Vehicle Lot',\n",
       " '84': 'Helipad',\n",
       " '86': 'Storage Tank',\n",
       " '89': 'Shipping container lot',\n",
       " '91': 'Shipping Container',\n",
       " '93': 'Pylon',\n",
       " '94': 'Tower'}"
      ]
     },
     "execution_count": 130,
     "metadata": {},
     "output_type": "execute_result"
    }
   ],
   "source": [
    "class_to_label"
   ]
  },
  {
   "cell_type": "code",
   "execution_count": 7,
   "metadata": {},
   "outputs": [],
   "source": [
    "class_to_label_22classes = {\n",
    "    \n",
    "    '1':'Plane',\n",
    "    '2':'Small Car',\n",
    "    '3':'PickupUtilityTruck',\n",
    "    '4':'CargoBoxFlatbedTrucks',\n",
    "    '5':'Truck Tractor',\n",
    "    '6':'Trailer',\n",
    "    '7':'Bus',\n",
    "    '8':'Passenger Car',\n",
    "    '9':'Cargo/Container Car',\n",
    "    '10':'Motorboat',\n",
    "    '11':'SailTugBoats',\n",
    "    '12':'FerryYacht',\n",
    "    '13':'Dump Truck',\n",
    "    '14':'TractorBulldozer',\n",
    "    '15':'Excavator',\n",
    "    '16':'Fishing Vessel',\n",
    "    '17':'Hut/Tent',\n",
    "    '18':'Shed',\n",
    "    '19':'Damaged Building',\n",
    "    '20':'Vehicle Lot',\n",
    "    '21':'Storage Tank',\n",
    "    '22':'Shipping container lot'\n",
    "}"
   ]
  },
  {
   "cell_type": "code",
   "execution_count": 132,
   "metadata": {},
   "outputs": [
    {
     "data": {
      "text/plain": [
       "{'1': 'Plane',\n",
       " '2': 'Small Car',\n",
       " '3': 'Pickup Utility Truck',\n",
       " '4': 'CargoBoxFlatbedTrucks',\n",
       " '5': 'Truck Tractor',\n",
       " '6': 'Trailer',\n",
       " '7': 'Bus',\n",
       " '8': 'Passenger Car',\n",
       " '9': 'Cargo/Container Car',\n",
       " '10': 'Motorboat',\n",
       " '11': 'SailTugBoats',\n",
       " '12': 'FerryYacht',\n",
       " '13': 'Dump Truck',\n",
       " '14': 'TractorBulldozer',\n",
       " '15': 'Excavator',\n",
       " '16': 'Fishing Vessel',\n",
       " '17': 'Hut/Tent',\n",
       " '18': 'Shed',\n",
       " '19': 'Damaged Building',\n",
       " '20': 'Vehicle Lot',\n",
       " '21': 'Storage Tank',\n",
       " '22': 'Shipping container lot'}"
      ]
     },
     "execution_count": 132,
     "metadata": {},
     "output_type": "execute_result"
    }
   ],
   "source": [
    "class_to_label_22classes"
   ]
  },
  {
   "cell_type": "code",
   "execution_count": 136,
   "metadata": {},
   "outputs": [],
   "source": [
    "save_object('class_to_label_22classes.pkl', class_to_label_22classes)"
   ]
  },
  {
   "cell_type": "code",
   "execution_count": 137,
   "metadata": {},
   "outputs": [],
   "source": [
    "a = load_object('class_to_label_22classes.pkl')"
   ]
  },
  {
   "cell_type": "code",
   "execution_count": 138,
   "metadata": {},
   "outputs": [
    {
     "data": {
      "text/plain": [
       "{'1': 'Plane',\n",
       " '2': 'Small Car',\n",
       " '3': 'Pickup Utility Truck',\n",
       " '4': 'CargoBoxFlatbedTrucks',\n",
       " '5': 'Truck Tractor',\n",
       " '6': 'Trailer',\n",
       " '7': 'Bus',\n",
       " '8': 'Passenger Car',\n",
       " '9': 'Cargo/Container Car',\n",
       " '10': 'Motorboat',\n",
       " '11': 'SailTugBoats',\n",
       " '12': 'FerryYacht',\n",
       " '13': 'Dump Truck',\n",
       " '14': 'TractorBulldozer',\n",
       " '15': 'Excavator',\n",
       " '16': 'Fishing Vessel',\n",
       " '17': 'Hut/Tent',\n",
       " '18': 'Shed',\n",
       " '19': 'Damaged Building',\n",
       " '20': 'Vehicle Lot',\n",
       " '21': 'Storage Tank',\n",
       " '22': 'Shipping container lot'}"
      ]
     },
     "execution_count": 138,
     "metadata": {},
     "output_type": "execute_result"
    }
   ],
   "source": [
    "a"
   ]
  },
  {
   "cell_type": "code",
   "execution_count": 139,
   "metadata": {},
   "outputs": [
    {
     "data": {
      "text/plain": [
       "'/home/abhijit/nat/Object-Detection'"
      ]
     },
     "execution_count": 139,
     "metadata": {},
     "output_type": "execute_result"
    }
   ],
   "source": [
    "pwd"
   ]
  },
  {
   "cell_type": "code",
   "execution_count": 140,
   "metadata": {},
   "outputs": [
    {
     "name": "stdout",
     "output_type": "stream",
     "text": [
      " \u001b[0m\u001b[01;32mREADME.md\u001b[0m*\r\n",
      " \u001b[34;42m__pycache__\u001b[0m/\r\n",
      " \u001b[34;42mcheckpoint\u001b[0m/\r\n",
      " \u001b[01;32mconfig.py\u001b[0m*\r\n",
      " \u001b[34;42mdata\u001b[0m/\r\n",
      " \u001b[34;42mdata_loader\u001b[0m/\r\n",
      " \u001b[34;42mdata_utilities\u001b[0m/\r\n",
      " \u001b[34;42mimbalanced-dataset-sampler\u001b[0m/\r\n",
      " \u001b[01;32mlr_finder.py\u001b[0m*\r\n",
      " \u001b[34;42mmodels\u001b[0m/\r\n",
      "\u001b[34;42m'models\\resnet'\u001b[0m/\r\n",
      " \u001b[34;42mobj-detection\u001b[0m/\r\n",
      " \u001b[01;32mrequirements.txt\u001b[0m*\r\n",
      " \u001b[01;32mresult.jpg\u001b[0m*\r\n",
      " \u001b[01;32mrun-resnet18_Saturday_13_March_2021_15h_23m_49s-tag-Test_Accuracy.csv\u001b[0m*\r\n",
      "\u001b[01;32m'run-resnet18_Saturday_13_March_2021_15h_23m_49s-tag-Test_Average loss.csv'\u001b[0m*\r\n",
      " \u001b[01;32mrun-resnet50_Saturday_13_March_2021_04h_22m_07s-tag-Test_Accuracy.csv\u001b[0m*\r\n",
      "\u001b[01;32m'run-resnet50_Saturday_13_March_2021_04h_22m_07s-tag-Test_Average loss.csv'\u001b[0m*\r\n",
      " \u001b[01;32mrun-resnet50_Saturday_13_March_2021_04h_22m_07s-tag-Train_loss.csv\u001b[0m*\r\n",
      " \u001b[34;42mruns\u001b[0m/\r\n",
      " \u001b[01;32mtrain.py\u001b[0m*\r\n",
      " \u001b[01;32mutils.py\u001b[0m*\r\n",
      " \u001b[01;32mworkspace.code-workspace\u001b[0m*\r\n",
      " \u001b[01;32mxView_Processing.ipynb\u001b[0m*\r\n"
     ]
    }
   ],
   "source": [
    "ls"
   ]
  },
  {
   "cell_type": "code",
   "execution_count": 6,
   "metadata": {},
   "outputs": [
    {
     "name": "stderr",
     "output_type": "stream",
     "text": [
      "/home/abhijit/snap/jupyter/common/lib/python3.7/site-packages/joblib/_multiprocessing_helpers.py:45: UserWarning: [Errno 13] Permission denied.  joblib will operate in serial mode\n",
      "  warnings.warn('%s.  joblib will operate in serial mode' % (e,))\n"
     ]
    },
    {
     "name": "stdout",
     "output_type": "stream",
     "text": [
      "              precision    recall  f1-score   support\n",
      "\n",
      "     class 0       0.50      1.00      0.67         1\n",
      "     class 1       0.00      0.00      0.00         1\n",
      "     class 2       1.00      0.67      0.80         3\n",
      "\n",
      "    accuracy                           0.60         5\n",
      "   macro avg       0.50      0.56      0.49         5\n",
      "weighted avg       0.70      0.60      0.61         5\n",
      "\n"
     ]
    }
   ],
   "source": [
    "from sklearn.metrics import classification_report\n",
    "y_true = [0, 1, 2, 2, 2]\n",
    "y_pred = [0, 0, 2, 2, 1]\n",
    "target_names = ['class 0', 'class 1', 'class 2']\n",
    "t = print(classification_report(y_true, y_pred, target_names=target_names))"
   ]
  },
  {
   "cell_type": "code",
   "execution_count": 8,
   "metadata": {},
   "outputs": [],
   "source": [
    "t"
   ]
  },
  {
   "cell_type": "code",
   "execution_count": null,
   "metadata": {},
   "outputs": [],
   "source": [
    "sys.stdout = open(\"test.txt\", \"w\")\n",
    "\n",
    "print(\"Hello World\")\n",
    "\n",
    "sys.stdout.close()"
   ]
  },
  {
   "cell_type": "code",
   "execution_count": 8,
   "metadata": {},
   "outputs": [],
   "source": [
    "with open('out.txt', 'w') as f:\n",
    "    \n",
    "    print(classification_report(y_true, y_pred, target_names=target_names),file=f)"
   ]
  },
  {
   "cell_type": "code",
   "execution_count": 21,
   "metadata": {},
   "outputs": [
    {
     "name": "stdout",
     "output_type": "stream",
     "text": [
      "target train 0/1: 900/100\n",
      "batch index 0, 0/1: 51/49\n",
      "batch index 1, 0/1: 45/55\n",
      "batch index 2, 0/1: 50/50\n",
      "batch index 3, 0/1: 50/50\n",
      "batch index 4, 0/1: 51/49\n",
      "batch index 5, 0/1: 44/56\n",
      "batch index 6, 0/1: 49/51\n",
      "batch index 7, 0/1: 50/50\n",
      "batch index 8, 0/1: 49/51\n",
      "batch index 9, 0/1: 42/58\n"
     ]
    }
   ],
   "source": [
    "numDataPoints = 1000\n",
    "data_dim = 5\n",
    "bs = 100\n",
    "\n",
    "# Create dummy data with class imbalance 9 to 1\n",
    "data = torch.FloatTensor(numDataPoints, data_dim)\n",
    "target = np.hstack((np.zeros(int(numDataPoints * 0.9), dtype=np.int32),\n",
    "                    np.ones(int(numDataPoints * 0.1), dtype=np.int32)))\n",
    "\n",
    "print('target train 0/1: {}/{}'.format(\n",
    "    len(np.where(target == 0)[0]), len(np.where(target == 1)[0])))\n",
    "\n",
    "class_sample_count = np.array(\n",
    "    [len(np.where(target == t)[0]) for t in np.unique(target)])\n",
    "weight = 1. / class_sample_count\n",
    "samples_weight = np.array([weight[t] for t in target])\n",
    "\n",
    "samples_weight = torch.from_numpy(samples_weight)\n",
    "samples_weigth = samples_weight.double()\n",
    "sampler = WeightedRandomSampler(samples_weight, len(samples_weight))\n",
    "\n",
    "target = torch.from_numpy(target).long()\n",
    "train_dataset = torch.utils.data.TensorDataset(data, target)\n",
    "\n",
    "train_loader = DataLoader(\n",
    "    train_dataset, batch_size=bs, num_workers=0, sampler=sampler)\n",
    "\n",
    "for i, (data, target) in enumerate(train_loader):\n",
    "    print(\"batch index {}, 0/1: {}/{}\".format(\n",
    "        i,\n",
    "        len(np.where(target.numpy() == 0)[0]),\n",
    "        len(np.where(target.numpy() == 1)[0])))"
   ]
  },
  {
   "cell_type": "code",
   "execution_count": 2,
   "metadata": {},
   "outputs": [],
   "source": [
    "WORKING_DIRECTORY = '/home/abhijit/nat/Object-Detection'\n",
    "DATA_DIRECTORY = WORKING_DIRECTORY+'/data/'\n",
    "TOP7_WEAK_TRAIN_DIRECTORY = DATA_DIRECTORY+'train_images_top7_weak_split/train'\n",
    "TOP7_WEAK_VALIDATION_DIRECTORY = DATA_DIRECTORY+'train_images_top7_weak_split/val'"
   ]
  },
  {
   "cell_type": "code",
   "execution_count": 70,
   "metadata": {},
   "outputs": [],
   "source": [
    "import torch \n",
    "import torchvision.transforms as transforms\n",
    "from torchvision.datasets import ImageFolder\n",
    "from torch.utils.data import DataLoader\n",
    "from torch.utils.data import random_split\n",
    "from torchsampler import ImbalancedDatasetSampler\n",
    "\n",
    "\n",
    "import PIL\n",
    "\n",
    "from config import *\n",
    "from utils import get_stats, get_data_paths\n",
    "\n",
    "def get_loader(weighted_sampler, use_sampler=False, balanced=False):\n",
    "    \"\"\" Returns a PyTorch data loader object\n",
    "    \n",
    "\n",
    "    \"\"\"\n",
    "    loader = {}\n",
    "    datasets = {}\n",
    "\n",
    "    mean, std = [0.2706, 0.2209, 0.1884], [0.1599, 0.1395, 0.1295]\n",
    "    train_path, val_path = TOP7_WEAK_TRAIN_DIRECTORY, TOP7_WEAK_VALIDATION_DIRECTORY\n",
    "\n",
    "    transformations = {'training_transform':transforms.Compose([\n",
    "                                        transforms.Resize((32, 32)),\n",
    "                                        transforms.ColorJitter(hue=.05, saturation=.05, brightness=0.09),\n",
    "                                        transforms.RandomHorizontalFlip(),\n",
    "                                        transforms.RandomRotation(20, resample=PIL.Image.BILINEAR),\n",
    "                                        transforms.ToTensor(),\n",
    "                                        transforms.Normalize(mean, std)]),\n",
    "\n",
    "                        'validation_transform':transforms.Compose([\n",
    "                                        transforms.Resize((32, 32)),\n",
    "                                        transforms.ToTensor(),\n",
    "                                        transforms.Normalize(mean, std)])\n",
    "                        }\n",
    "\n",
    "    train_set = ImageFolder(root=train_path, transform=transformations['training_transform'], )\n",
    "    validation_set = ImageFolder(root=val_path, transform=transformations['validation_transform'])\n",
    "\n",
    "    if balanced:\n",
    "        print(\"Balanced training\")\n",
    "        loader['training'] = DataLoader(train_set, sampler=ImbalancedDatasetSampler(train_set), batch_size=128, num_workers=0)\n",
    "    elif use_sampler:\n",
    "        print(\"Using custom sampler\")\n",
    "        loader['training'] = DataLoader(train_set, sampler=weighted_sampler, batch_size=128, num_workers=0)\n",
    "    else:\n",
    "        print(\"Imbalanced training\")\n",
    "        loader['training'] = DataLoader(train_set, batch_size=128, shuffle=True, num_workers=0)\n",
    "    \n",
    "    loader['validation'] = DataLoader(validation_set, batch_size=128, num_workers=0)\n",
    "\n",
    "    datasets['training'] = train_set\n",
    "    datasets['validation'] = validation_set\n",
    "\n",
    "    return datasets, loader\n"
   ]
  },
  {
   "cell_type": "code",
   "execution_count": 9,
   "metadata": {},
   "outputs": [
    {
     "name": "stdout",
     "output_type": "stream",
     "text": [
      "Balanced training\n"
     ]
    }
   ],
   "source": [
    "datasets, loader = get_loader()"
   ]
  },
  {
   "cell_type": "code",
   "execution_count": 10,
   "metadata": {},
   "outputs": [
    {
     "name": "stdout",
     "output_type": "stream",
     "text": [
      "[17 19 16 29 15 15 17]\n",
      "[13 16 20 15 22 27 15]\n",
      "[17 20 19 14 23 11 24]\n",
      "[19 16 22 31 12 14 14]\n",
      "[20 24 17 18 14 20 15]\n",
      "[21 18 13 27 13 20 16]\n",
      "[15 13 24 29 15 17 15]\n",
      "[21 19 26 16 20 13 13]\n",
      "[13 15 12 23 30 16 19]\n",
      "[17 22 16 19 16 17 21]\n",
      "[20 23 18 17 19 13 18]\n",
      "[26 14 14 15 20 20 19]\n",
      "[24 18 11 21 17 23 14]\n",
      "[21 20 19 21 15 13 19]\n",
      "[13 15 19 19 24 18 20]\n",
      "[18 23 13 23 13 17 21]\n",
      "[26 20 20 13 17 19 13]\n",
      "[11 18 17 12 16 34 20]\n",
      "[12 18 20 21 25 19 13]\n",
      "[13 24 19 19 18 14 21]\n",
      "[24 17 14 12 19 19 23]\n",
      "[17 17 18 18 23 19 16]\n",
      "[21 19 19 14 17 21 17]\n",
      "[18 17 21 13 16 17 26]\n",
      "[24 13 21 17 17 16 20]\n",
      "[14 12 17 29 17 17 22]\n",
      "[18 26 19 16 11 20 18]\n",
      "[15 15 24 26 14 13 21]\n",
      "[18 21 19 25 13 19 13]\n",
      "[14 13 25 27 22 15 12]\n",
      "[22 18 14 25 17 17 15]\n",
      "[17 21 18 24 16 18 14]\n",
      "[16 21 17 17 21 16 20]\n",
      "[25 18 19 17 20 18 11]\n",
      "[18 22 24 20 17 11 16]\n",
      "[16 14 14 20 22 18 24]\n",
      "[13 14 14 24 24 19 20]\n",
      "[15 19 22 21 15 18 18]\n",
      "[13 23 16 21 17 23 15]\n",
      "[23 14 23 15 16 20 17]\n",
      "[12 23 22 15 17 22 17]\n",
      "[14 17 17 19 22 18 21]\n",
      "[12 23 18 22 23 16 14]\n",
      "[18 21 13 15 24 21 16]\n",
      "[17 17 16 21 24 15 18]\n",
      "[21 11 19 20 27 16 14]\n",
      "[28 19 21 28  6 15 11]\n",
      "[19 16 18 18 23 20 14]\n",
      "[22 15 22 16 21 16 16]\n",
      "[19 18 18 14 13 25 21]\n",
      "[22 17 21 13 20 16 19]\n",
      "[16 21 15 17 22 19 18]\n",
      "[19 23  9 18 21 18 20]\n",
      "[16 19 21 19 17 10 26]\n",
      "[23 15 18 15 19 19 19]\n",
      "[16 20 20 18 20 20 14]\n",
      "[19 23 21 18 17 14 16]\n",
      "[18 16 26 15 22 13 18]\n",
      "[21 12 22 21 18 19 15]\n",
      "[15 13 17 17 21 26 19]\n",
      "[21 24 18 17 18 16 14]\n",
      "[21 15 22 19 13 16 22]\n",
      "[12 25 24 16 18 11 22]\n",
      "[15 19 20 19 24 16 15]\n",
      "[15 13 15 17 13 24 31]\n",
      "[14 12 19 20 16 21 26]\n",
      "[20 15 19 15 16 29 14]\n",
      "[17 16 16 11 23 23 22]\n",
      "[21 15 14 13 18 22 25]\n",
      "[13 17 25 14 25 17 17]\n",
      "[20 23 17 17 15 22 14]\n",
      "[19 23 17 17 18 16 18]\n",
      "[15 18 17 14 21 20 23]\n",
      "[10 13 24 24 25 18 14]\n",
      "[16 19 28 18 17 21  9]\n",
      "[17 16 18 17 19 18 23]\n",
      "[16 18 17 18 21 18 20]\n",
      "[19 23 19 19 15 13 20]\n",
      "[17 19 16 23 10 25 18]\n",
      "[18 10 19 21 18 17 25]\n",
      "[21 21 15 15 19 21 16]\n",
      "[20 13 20 22 12 19 22]\n",
      "[19 11 18 19 15 26 20]\n",
      "[16 16 20 22 14 21 19]\n",
      "[13 26 16 15 23 19 16]\n",
      "[18 15 10 19 24 19 23]\n",
      "[21 20 12 15 16 24 20]\n",
      "[23 18 15 24 15 17 16]\n",
      "[24 11 24 18 14 22 15]\n",
      "[16 21 13 20 19 17 22]\n",
      "[14 13 14 14 25 25 23]\n",
      "[17 12 23 13 22 18 23]\n",
      "[17 16 24 19 11 23 18]\n",
      "[19 16 19 15 20 14 25]\n",
      "[16 17 20 15 19 21 20]\n",
      "[19 20 19 19 17 19 15]\n",
      "[17 17 25 19 18 12 20]\n",
      "[18 24 20 22 15 19 10]\n",
      "[24 12 19 18 22 14 19]\n",
      "[22 20 18 20  9 22 17]\n",
      "[12 21 17 24 22 15 17]\n",
      "[19 15 19 14 29 18 14]\n",
      "[19 24 17 19 23 13 13]\n",
      "[15 18 15 24 18 22 16]\n",
      "[12 17 25 15 18 21 20]\n",
      "[15 25 12 20 21 16 19]\n",
      "[15 16 15 25 16 24 17]\n",
      "[23 18 22 15 16 21 13]\n",
      "[12 24 27 16 21 11 17]\n",
      "[13 18 26 10 16 15 30]\n",
      "[20 20 11 16 18 24 19]\n",
      "[18 24 14 17 18 14 23]\n",
      "[22 18 13 25 10 17 23]\n",
      "[16 15 17 20 18 25 17]\n",
      "[18 18 18 18 18 18 20]\n",
      "[17 14 16 24 23 19 15]\n",
      "[16 15 13 19 21 18 26]\n",
      "[23 18 24 24 14 14 11]\n",
      "[21 19 26 15 21 12 14]\n",
      "[24 12 19 14 21 23 15]\n",
      "[22 16 18 15 21 19 17]\n",
      "[14 19 20 21 13 21 20]\n",
      "[14 19 18 20 21 18 18]\n",
      "[10 17 24 16 19 22 20]\n",
      "[18 20 14 20 21 21 14]\n",
      "[23 16 20 21 15 16 17]\n",
      "[17 19 20 13 13 15 31]\n",
      "[20 16 24 14 15 23 16]\n",
      "[20 23 18 19 19 17 12]\n",
      "[17 24 15 13 19 18 22]\n",
      "[23 11 24 13 16 25 16]\n",
      "[15 15 16 21 24 22 15]\n",
      "[14 28 18 22 17 11 18]\n",
      "[13 23 20 19 12 19 22]\n",
      "[20 16 17 22 15 19 19]\n",
      "[15 16 18 17 18 24 20]\n",
      "[22 16 19 11 16 21 23]\n",
      "[13 17 24 19 22 18 15]\n",
      "[21 20 18 16 19 20 14]\n",
      "[16 18 17 18 24 19 16]\n",
      "[14 22 17 19 19 22 15]\n",
      "[16 23 21 16 19 18 15]\n",
      "[17 24 26 17 17 14 13]\n",
      "[11 18 18 17 20 25 19]\n",
      "[16 17 18 27 17 19 14]\n",
      "[17 28 18 18 16 16 15]\n",
      "[19 23 22 16 17 21 10]\n",
      "[27 16 16 15 22 16 16]\n",
      "[23 15 15 19 20 23 13]\n",
      "[24 21 20 12 23  9 19]\n",
      "[23 14 23 17 13 22 16]\n",
      "[18 26 12 17 21 16 18]\n",
      "[14 16 19 18 23 17 21]\n",
      "[24 16 14 20 13 25 16]\n",
      "[17 15 16 22 24 16 18]\n",
      "[15 18 21 21 15 18 20]\n",
      "[18 16 19 13 25 15 22]\n",
      "[ 7 29 13 16 18 24 21]\n",
      "[20 20 15 19 22 15 17]\n",
      "[23 20 16 14 19 16 20]\n",
      "[29 15 10 21 15 16 22]\n",
      "[14 14 16 23 24 15 22]\n",
      "[24 12 21 18 19 20 14]\n",
      "[20 15 20  9 19 27 18]\n",
      "[20 16 14 24 19 19 16]\n",
      "[18 16 19 19 16 20 20]\n",
      "[18 22 15 21 19 18 15]\n",
      "[11 18 13 17 27 20 22]\n",
      "[19 24 22 13 14 20 16]\n",
      "[20 18 22 16 14 17 21]\n",
      "[17 18 19 23 17 22 12]\n",
      "[16 22 16 22 14 17 21]\n",
      "[27 13 16 14 24 13 21]\n",
      "[15 14 12 24 15 24 24]\n",
      "[17 18 19 12 21 23 18]\n",
      "[15 25 21 21 16 15 15]\n",
      "[22 14 14 20 13 26 19]\n",
      "[19 19 21 15 21 19 14]\n",
      "[19 11 20 21 20 17 20]\n",
      "[22 19 14 24 13 12 24]\n",
      "[18 23 23 11 15 17 21]\n",
      "[16 15 19 18 17 23 20]\n",
      "[22 19 19 13 14 20 21]\n",
      "[11 11 12 21 25 31 17]\n",
      "[17 17 17 19 19 18 21]\n",
      "[17 19 23 20 14 19 16]\n",
      "[25 21 21 11 17 16 17]\n",
      "[12 21 16 19 21 24 15]\n",
      "[15 22 19 30 17 11 14]\n",
      "[24 19 16 17 18 15 19]\n",
      "[11 23 12 18 25 21 18]\n",
      "[10 20 22 18 13 27 18]\n",
      "[22 15 17 19 11 26 18]\n",
      "[26 17 17 22 16 19 11]\n",
      "[15 14 25 13 14 23 24]\n",
      "[17 21 12 19 14 25 20]\n",
      "[26 17 16 21 18 18 12]\n",
      "[22 15 18 27 14 17 15]\n",
      "[26 20 22 17 17 16 10]\n",
      "[27 20 12 15 16 20 18]\n",
      "[25 14 16 17 18 18 20]\n",
      "[19 18 19 15 20 20 17]\n",
      "[14 17 20 18 16 20 23]\n",
      "[17 19 19 24 19 14 16]\n",
      "[14 28 17 15 14 20 20]\n",
      "[16 13 14 21 26 15 23]\n",
      "[21 24 11 18 16 20 18]\n",
      "[27 22 18 14 18 15 14]\n",
      "[2 3 2 2 1 3 2]\n"
     ]
    }
   ],
   "source": [
    "import numpy as np\n",
    "for images, labels in loader['training']:\n",
    "    print(np.unique(labels.numpy(), return_counts=True)[1])"
   ]
  },
  {
   "cell_type": "code",
   "execution_count": 54,
   "metadata": {},
   "outputs": [],
   "source": [
    "class_counts = np.unique(loader['training'].dataset.targets, return_counts=True)[1]"
   ]
  },
  {
   "cell_type": "code",
   "execution_count": 55,
   "metadata": {},
   "outputs": [],
   "source": [
    "class_weights = 1./class_counts"
   ]
  },
  {
   "cell_type": "code",
   "execution_count": 56,
   "metadata": {},
   "outputs": [],
   "source": [
    "class_weights = torch.from_numpy(class_weights)"
   ]
  },
  {
   "cell_type": "code",
   "execution_count": 57,
   "metadata": {},
   "outputs": [],
   "source": [
    "targets = loader['training'].dataset.targets"
   ]
  },
  {
   "cell_type": "code",
   "execution_count": 58,
   "metadata": {},
   "outputs": [],
   "source": [
    "sample_weights = class_weights[targets]"
   ]
  },
  {
   "cell_type": "code",
   "execution_count": 59,
   "metadata": {},
   "outputs": [
    {
     "data": {
      "text/plain": [
       "tensor([0.0011, 0.0011, 0.0011,  ..., 0.0002, 0.0002, 0.0002],\n",
       "       dtype=torch.float64)"
      ]
     },
     "execution_count": 59,
     "metadata": {},
     "output_type": "execute_result"
    }
   ],
   "source": [
    "sample_weights"
   ]
  },
  {
   "cell_type": "code",
   "execution_count": 60,
   "metadata": {},
   "outputs": [
    {
     "data": {
      "text/plain": [
       "[0,\n",
       " 0,\n",
       " 0,\n",
       " 0,\n",
       " 0,\n",
       " 0,\n",
       " 0,\n",
       " 0,\n",
       " 0,\n",
       " 0,\n",
       " 0,\n",
       " 0,\n",
       " 0,\n",
       " 0,\n",
       " 0,\n",
       " 0,\n",
       " 0,\n",
       " 0,\n",
       " 0,\n",
       " 0,\n",
       " 0,\n",
       " 0,\n",
       " 0,\n",
       " 0,\n",
       " 0,\n",
       " 0,\n",
       " 0,\n",
       " 0,\n",
       " 0,\n",
       " 0,\n",
       " 0,\n",
       " 0,\n",
       " 0,\n",
       " 0,\n",
       " 0,\n",
       " 0,\n",
       " 0,\n",
       " 0,\n",
       " 0,\n",
       " 0,\n",
       " 0,\n",
       " 0,\n",
       " 0,\n",
       " 0,\n",
       " 0,\n",
       " 0,\n",
       " 0,\n",
       " 0,\n",
       " 0,\n",
       " 0,\n",
       " 0,\n",
       " 0,\n",
       " 0,\n",
       " 0,\n",
       " 0,\n",
       " 0,\n",
       " 0,\n",
       " 0,\n",
       " 0,\n",
       " 0,\n",
       " 0,\n",
       " 0,\n",
       " 0,\n",
       " 0,\n",
       " 0,\n",
       " 0,\n",
       " 0,\n",
       " 0,\n",
       " 0,\n",
       " 0,\n",
       " 0,\n",
       " 0,\n",
       " 0,\n",
       " 0,\n",
       " 0,\n",
       " 0,\n",
       " 0,\n",
       " 0,\n",
       " 0,\n",
       " 0,\n",
       " 0,\n",
       " 0,\n",
       " 0,\n",
       " 0,\n",
       " 0,\n",
       " 0,\n",
       " 0,\n",
       " 0,\n",
       " 0,\n",
       " 0,\n",
       " 0,\n",
       " 0,\n",
       " 0,\n",
       " 0,\n",
       " 0,\n",
       " 0,\n",
       " 0,\n",
       " 0,\n",
       " 0,\n",
       " 0,\n",
       " 0,\n",
       " 0,\n",
       " 0,\n",
       " 0,\n",
       " 0,\n",
       " 0,\n",
       " 0,\n",
       " 0,\n",
       " 0,\n",
       " 0,\n",
       " 0,\n",
       " 0,\n",
       " 0,\n",
       " 0,\n",
       " 0,\n",
       " 0,\n",
       " 0,\n",
       " 0,\n",
       " 0,\n",
       " 0,\n",
       " 0,\n",
       " 0,\n",
       " 0,\n",
       " 0,\n",
       " 0,\n",
       " 0,\n",
       " 0,\n",
       " 0,\n",
       " 0,\n",
       " 0,\n",
       " 0,\n",
       " 0,\n",
       " 0,\n",
       " 0,\n",
       " 0,\n",
       " 0,\n",
       " 0,\n",
       " 0,\n",
       " 0,\n",
       " 0,\n",
       " 0,\n",
       " 0,\n",
       " 0,\n",
       " 0,\n",
       " 0,\n",
       " 0,\n",
       " 0,\n",
       " 0,\n",
       " 0,\n",
       " 0,\n",
       " 0,\n",
       " 0,\n",
       " 0,\n",
       " 0,\n",
       " 0,\n",
       " 0,\n",
       " 0,\n",
       " 0,\n",
       " 0,\n",
       " 0,\n",
       " 0,\n",
       " 0,\n",
       " 0,\n",
       " 0,\n",
       " 0,\n",
       " 0,\n",
       " 0,\n",
       " 0,\n",
       " 0,\n",
       " 0,\n",
       " 0,\n",
       " 0,\n",
       " 0,\n",
       " 0,\n",
       " 0,\n",
       " 0,\n",
       " 0,\n",
       " 0,\n",
       " 0,\n",
       " 0,\n",
       " 0,\n",
       " 0,\n",
       " 0,\n",
       " 0,\n",
       " 0,\n",
       " 0,\n",
       " 0,\n",
       " 0,\n",
       " 0,\n",
       " 0,\n",
       " 0,\n",
       " 0,\n",
       " 0,\n",
       " 0,\n",
       " 0,\n",
       " 0,\n",
       " 0,\n",
       " 0,\n",
       " 0,\n",
       " 0,\n",
       " 0,\n",
       " 0,\n",
       " 0,\n",
       " 0,\n",
       " 0,\n",
       " 0,\n",
       " 0,\n",
       " 0,\n",
       " 0,\n",
       " 0,\n",
       " 0,\n",
       " 0,\n",
       " 0,\n",
       " 0,\n",
       " 0,\n",
       " 0,\n",
       " 0,\n",
       " 0,\n",
       " 0,\n",
       " 0,\n",
       " 0,\n",
       " 0,\n",
       " 0,\n",
       " 0,\n",
       " 0,\n",
       " 0,\n",
       " 0,\n",
       " 0,\n",
       " 0,\n",
       " 0,\n",
       " 0,\n",
       " 0,\n",
       " 0,\n",
       " 0,\n",
       " 0,\n",
       " 0,\n",
       " 0,\n",
       " 0,\n",
       " 0,\n",
       " 0,\n",
       " 0,\n",
       " 0,\n",
       " 0,\n",
       " 0,\n",
       " 0,\n",
       " 0,\n",
       " 0,\n",
       " 0,\n",
       " 0,\n",
       " 0,\n",
       " 0,\n",
       " 0,\n",
       " 0,\n",
       " 0,\n",
       " 0,\n",
       " 0,\n",
       " 0,\n",
       " 0,\n",
       " 0,\n",
       " 0,\n",
       " 0,\n",
       " 0,\n",
       " 0,\n",
       " 0,\n",
       " 0,\n",
       " 0,\n",
       " 0,\n",
       " 0,\n",
       " 0,\n",
       " 0,\n",
       " 0,\n",
       " 0,\n",
       " 0,\n",
       " 0,\n",
       " 0,\n",
       " 0,\n",
       " 0,\n",
       " 0,\n",
       " 0,\n",
       " 0,\n",
       " 0,\n",
       " 0,\n",
       " 0,\n",
       " 0,\n",
       " 0,\n",
       " 0,\n",
       " 0,\n",
       " 0,\n",
       " 0,\n",
       " 0,\n",
       " 0,\n",
       " 0,\n",
       " 0,\n",
       " 0,\n",
       " 0,\n",
       " 0,\n",
       " 0,\n",
       " 0,\n",
       " 0,\n",
       " 0,\n",
       " 0,\n",
       " 0,\n",
       " 0,\n",
       " 0,\n",
       " 0,\n",
       " 0,\n",
       " 0,\n",
       " 0,\n",
       " 0,\n",
       " 0,\n",
       " 0,\n",
       " 0,\n",
       " 0,\n",
       " 0,\n",
       " 0,\n",
       " 0,\n",
       " 0,\n",
       " 0,\n",
       " 0,\n",
       " 0,\n",
       " 0,\n",
       " 0,\n",
       " 0,\n",
       " 0,\n",
       " 0,\n",
       " 0,\n",
       " 0,\n",
       " 0,\n",
       " 0,\n",
       " 0,\n",
       " 0,\n",
       " 0,\n",
       " 0,\n",
       " 0,\n",
       " 0,\n",
       " 0,\n",
       " 0,\n",
       " 0,\n",
       " 0,\n",
       " 0,\n",
       " 0,\n",
       " 0,\n",
       " 0,\n",
       " 0,\n",
       " 0,\n",
       " 0,\n",
       " 0,\n",
       " 0,\n",
       " 0,\n",
       " 0,\n",
       " 0,\n",
       " 0,\n",
       " 0,\n",
       " 0,\n",
       " 0,\n",
       " 0,\n",
       " 0,\n",
       " 0,\n",
       " 0,\n",
       " 0,\n",
       " 0,\n",
       " 0,\n",
       " 0,\n",
       " 0,\n",
       " 0,\n",
       " 0,\n",
       " 0,\n",
       " 0,\n",
       " 0,\n",
       " 0,\n",
       " 0,\n",
       " 0,\n",
       " 0,\n",
       " 0,\n",
       " 0,\n",
       " 0,\n",
       " 0,\n",
       " 0,\n",
       " 0,\n",
       " 0,\n",
       " 0,\n",
       " 0,\n",
       " 0,\n",
       " 0,\n",
       " 0,\n",
       " 0,\n",
       " 0,\n",
       " 0,\n",
       " 0,\n",
       " 0,\n",
       " 0,\n",
       " 0,\n",
       " 0,\n",
       " 0,\n",
       " 0,\n",
       " 0,\n",
       " 0,\n",
       " 0,\n",
       " 0,\n",
       " 0,\n",
       " 0,\n",
       " 0,\n",
       " 0,\n",
       " 0,\n",
       " 0,\n",
       " 0,\n",
       " 0,\n",
       " 0,\n",
       " 0,\n",
       " 0,\n",
       " 0,\n",
       " 0,\n",
       " 0,\n",
       " 0,\n",
       " 0,\n",
       " 0,\n",
       " 0,\n",
       " 0,\n",
       " 0,\n",
       " 0,\n",
       " 0,\n",
       " 0,\n",
       " 0,\n",
       " 0,\n",
       " 0,\n",
       " 0,\n",
       " 0,\n",
       " 0,\n",
       " 0,\n",
       " 0,\n",
       " 0,\n",
       " 0,\n",
       " 0,\n",
       " 0,\n",
       " 0,\n",
       " 0,\n",
       " 0,\n",
       " 0,\n",
       " 0,\n",
       " 0,\n",
       " 0,\n",
       " 0,\n",
       " 0,\n",
       " 0,\n",
       " 0,\n",
       " 0,\n",
       " 0,\n",
       " 0,\n",
       " 0,\n",
       " 0,\n",
       " 0,\n",
       " 0,\n",
       " 0,\n",
       " 0,\n",
       " 0,\n",
       " 0,\n",
       " 0,\n",
       " 0,\n",
       " 0,\n",
       " 0,\n",
       " 0,\n",
       " 0,\n",
       " 0,\n",
       " 0,\n",
       " 0,\n",
       " 0,\n",
       " 0,\n",
       " 0,\n",
       " 0,\n",
       " 0,\n",
       " 0,\n",
       " 0,\n",
       " 0,\n",
       " 0,\n",
       " 0,\n",
       " 0,\n",
       " 0,\n",
       " 0,\n",
       " 0,\n",
       " 0,\n",
       " 0,\n",
       " 0,\n",
       " 0,\n",
       " 0,\n",
       " 0,\n",
       " 0,\n",
       " 0,\n",
       " 0,\n",
       " 0,\n",
       " 0,\n",
       " 0,\n",
       " 0,\n",
       " 0,\n",
       " 0,\n",
       " 0,\n",
       " 0,\n",
       " 0,\n",
       " 0,\n",
       " 0,\n",
       " 0,\n",
       " 0,\n",
       " 0,\n",
       " 0,\n",
       " 0,\n",
       " 0,\n",
       " 0,\n",
       " 0,\n",
       " 0,\n",
       " 0,\n",
       " 0,\n",
       " 0,\n",
       " 0,\n",
       " 0,\n",
       " 0,\n",
       " 0,\n",
       " 0,\n",
       " 0,\n",
       " 0,\n",
       " 0,\n",
       " 0,\n",
       " 0,\n",
       " 0,\n",
       " 0,\n",
       " 0,\n",
       " 0,\n",
       " 0,\n",
       " 0,\n",
       " 0,\n",
       " 0,\n",
       " 0,\n",
       " 0,\n",
       " 0,\n",
       " 0,\n",
       " 0,\n",
       " 0,\n",
       " 0,\n",
       " 0,\n",
       " 0,\n",
       " 0,\n",
       " 0,\n",
       " 0,\n",
       " 0,\n",
       " 0,\n",
       " 0,\n",
       " 0,\n",
       " 0,\n",
       " 0,\n",
       " 0,\n",
       " 0,\n",
       " 0,\n",
       " 0,\n",
       " 0,\n",
       " 0,\n",
       " 0,\n",
       " 0,\n",
       " 0,\n",
       " 0,\n",
       " 0,\n",
       " 0,\n",
       " 0,\n",
       " 0,\n",
       " 0,\n",
       " 0,\n",
       " 0,\n",
       " 0,\n",
       " 0,\n",
       " 0,\n",
       " 0,\n",
       " 0,\n",
       " 0,\n",
       " 0,\n",
       " 0,\n",
       " 0,\n",
       " 0,\n",
       " 0,\n",
       " 0,\n",
       " 0,\n",
       " 0,\n",
       " 0,\n",
       " 0,\n",
       " 0,\n",
       " 0,\n",
       " 0,\n",
       " 0,\n",
       " 0,\n",
       " 0,\n",
       " 0,\n",
       " 0,\n",
       " 0,\n",
       " 0,\n",
       " 0,\n",
       " 0,\n",
       " 0,\n",
       " 0,\n",
       " 0,\n",
       " 0,\n",
       " 0,\n",
       " 0,\n",
       " 0,\n",
       " 0,\n",
       " 0,\n",
       " 0,\n",
       " 0,\n",
       " 0,\n",
       " 0,\n",
       " 0,\n",
       " 0,\n",
       " 0,\n",
       " 0,\n",
       " 0,\n",
       " 0,\n",
       " 0,\n",
       " 0,\n",
       " 0,\n",
       " 0,\n",
       " 0,\n",
       " 0,\n",
       " 0,\n",
       " 0,\n",
       " 0,\n",
       " 0,\n",
       " 0,\n",
       " 0,\n",
       " 0,\n",
       " 0,\n",
       " 0,\n",
       " 0,\n",
       " 0,\n",
       " 0,\n",
       " 0,\n",
       " 0,\n",
       " 0,\n",
       " 0,\n",
       " 0,\n",
       " 0,\n",
       " 0,\n",
       " 0,\n",
       " 0,\n",
       " 0,\n",
       " 0,\n",
       " 0,\n",
       " 0,\n",
       " 0,\n",
       " 0,\n",
       " 0,\n",
       " 0,\n",
       " 0,\n",
       " 0,\n",
       " 0,\n",
       " 0,\n",
       " 0,\n",
       " 0,\n",
       " 0,\n",
       " 0,\n",
       " 0,\n",
       " 0,\n",
       " 0,\n",
       " 0,\n",
       " 0,\n",
       " 0,\n",
       " 0,\n",
       " 0,\n",
       " 0,\n",
       " 0,\n",
       " 0,\n",
       " 0,\n",
       " 0,\n",
       " 0,\n",
       " 0,\n",
       " 0,\n",
       " 0,\n",
       " 0,\n",
       " 0,\n",
       " 0,\n",
       " 0,\n",
       " 0,\n",
       " 0,\n",
       " 0,\n",
       " 0,\n",
       " 0,\n",
       " 0,\n",
       " 0,\n",
       " 0,\n",
       " 0,\n",
       " 0,\n",
       " 0,\n",
       " 0,\n",
       " 0,\n",
       " 0,\n",
       " 0,\n",
       " 0,\n",
       " 0,\n",
       " 0,\n",
       " 0,\n",
       " 0,\n",
       " 0,\n",
       " 0,\n",
       " 0,\n",
       " 0,\n",
       " 0,\n",
       " 0,\n",
       " 0,\n",
       " 0,\n",
       " 0,\n",
       " 0,\n",
       " 0,\n",
       " 0,\n",
       " 0,\n",
       " 0,\n",
       " 0,\n",
       " 0,\n",
       " 0,\n",
       " 0,\n",
       " 0,\n",
       " 0,\n",
       " 0,\n",
       " 0,\n",
       " 0,\n",
       " 0,\n",
       " 0,\n",
       " 0,\n",
       " 0,\n",
       " 0,\n",
       " 0,\n",
       " 0,\n",
       " 0,\n",
       " 0,\n",
       " 0,\n",
       " 0,\n",
       " 0,\n",
       " 0,\n",
       " 0,\n",
       " 0,\n",
       " 0,\n",
       " 0,\n",
       " 0,\n",
       " 0,\n",
       " 0,\n",
       " 0,\n",
       " 0,\n",
       " 0,\n",
       " 0,\n",
       " 0,\n",
       " 0,\n",
       " 0,\n",
       " 0,\n",
       " 0,\n",
       " 0,\n",
       " 0,\n",
       " 0,\n",
       " 0,\n",
       " 0,\n",
       " 0,\n",
       " 0,\n",
       " 0,\n",
       " 0,\n",
       " 0,\n",
       " 0,\n",
       " 0,\n",
       " 0,\n",
       " 0,\n",
       " 0,\n",
       " 0,\n",
       " 0,\n",
       " 0,\n",
       " 0,\n",
       " 0,\n",
       " 0,\n",
       " 0,\n",
       " 0,\n",
       " 0,\n",
       " 0,\n",
       " 0,\n",
       " 0,\n",
       " 0,\n",
       " 0,\n",
       " 0,\n",
       " 0,\n",
       " 0,\n",
       " 0,\n",
       " 0,\n",
       " 0,\n",
       " 0,\n",
       " 0,\n",
       " 0,\n",
       " 0,\n",
       " 0,\n",
       " 0,\n",
       " 0,\n",
       " 0,\n",
       " 0,\n",
       " 0,\n",
       " 0,\n",
       " 0,\n",
       " 0,\n",
       " 0,\n",
       " 0,\n",
       " 0,\n",
       " 0,\n",
       " 0,\n",
       " 0,\n",
       " 0,\n",
       " 0,\n",
       " 0,\n",
       " 0,\n",
       " 0,\n",
       " 0,\n",
       " 0,\n",
       " 0,\n",
       " 0,\n",
       " 0,\n",
       " 0,\n",
       " 0,\n",
       " 0,\n",
       " 0,\n",
       " 0,\n",
       " 0,\n",
       " 0,\n",
       " 0,\n",
       " 0,\n",
       " 0,\n",
       " 0,\n",
       " 0,\n",
       " 0,\n",
       " 0,\n",
       " 0,\n",
       " 0,\n",
       " 0,\n",
       " 0,\n",
       " 0,\n",
       " 0,\n",
       " 0,\n",
       " 0,\n",
       " 0,\n",
       " 0,\n",
       " 0,\n",
       " 0,\n",
       " 0,\n",
       " 0,\n",
       " 0,\n",
       " 0,\n",
       " 0,\n",
       " 0,\n",
       " 0,\n",
       " 0,\n",
       " 0,\n",
       " 0,\n",
       " 0,\n",
       " 0,\n",
       " 0,\n",
       " 0,\n",
       " 0,\n",
       " 0,\n",
       " 0,\n",
       " 0,\n",
       " 0,\n",
       " 0,\n",
       " 0,\n",
       " 0,\n",
       " 0,\n",
       " 0,\n",
       " 0,\n",
       " 0,\n",
       " 0,\n",
       " 0,\n",
       " 0,\n",
       " 0,\n",
       " 0,\n",
       " 0,\n",
       " 0,\n",
       " 0,\n",
       " 0,\n",
       " 0,\n",
       " 0,\n",
       " 0,\n",
       " 0,\n",
       " 0,\n",
       " 0,\n",
       " 0,\n",
       " 0,\n",
       " 0,\n",
       " 0,\n",
       " 0,\n",
       " 0,\n",
       " 0,\n",
       " 0,\n",
       " 0,\n",
       " 0,\n",
       " 0,\n",
       " 0,\n",
       " 0,\n",
       " 0,\n",
       " 0,\n",
       " 0,\n",
       " 0,\n",
       " 0,\n",
       " 0,\n",
       " 0,\n",
       " 0,\n",
       " 0,\n",
       " 0,\n",
       " 0,\n",
       " 0,\n",
       " 0,\n",
       " 0,\n",
       " 0,\n",
       " 0,\n",
       " 0,\n",
       " 0,\n",
       " 0,\n",
       " 0,\n",
       " 0,\n",
       " 0,\n",
       " 0,\n",
       " 0,\n",
       " 0,\n",
       " 0,\n",
       " 0,\n",
       " 0,\n",
       " 0,\n",
       " 0,\n",
       " 0,\n",
       " 0,\n",
       " 0,\n",
       " 0,\n",
       " 0,\n",
       " 0,\n",
       " 0,\n",
       " 0,\n",
       " 0,\n",
       " 0,\n",
       " 0,\n",
       " 0,\n",
       " 0,\n",
       " 0,\n",
       " 0,\n",
       " 0,\n",
       " 0,\n",
       " 0,\n",
       " 0,\n",
       " 0,\n",
       " 0,\n",
       " 0,\n",
       " 0,\n",
       " 0,\n",
       " 1,\n",
       " 1,\n",
       " 1,\n",
       " 1,\n",
       " 1,\n",
       " 1,\n",
       " 1,\n",
       " 1,\n",
       " 1,\n",
       " 1,\n",
       " 1,\n",
       " 1,\n",
       " 1,\n",
       " 1,\n",
       " 1,\n",
       " 1,\n",
       " 1,\n",
       " 1,\n",
       " 1,\n",
       " 1,\n",
       " 1,\n",
       " 1,\n",
       " 1,\n",
       " 1,\n",
       " 1,\n",
       " 1,\n",
       " 1,\n",
       " 1,\n",
       " 1,\n",
       " 1,\n",
       " 1,\n",
       " 1,\n",
       " 1,\n",
       " 1,\n",
       " 1,\n",
       " 1,\n",
       " 1,\n",
       " 1,\n",
       " 1,\n",
       " 1,\n",
       " 1,\n",
       " 1,\n",
       " 1,\n",
       " 1,\n",
       " 1,\n",
       " 1,\n",
       " 1,\n",
       " 1,\n",
       " 1,\n",
       " 1,\n",
       " 1,\n",
       " 1,\n",
       " 1,\n",
       " 1,\n",
       " 1,\n",
       " ...]"
      ]
     },
     "execution_count": 60,
     "metadata": {},
     "output_type": "execute_result"
    }
   ],
   "source": [
    "targets"
   ]
  },
  {
   "cell_type": "code",
   "execution_count": 74,
   "metadata": {},
   "outputs": [],
   "source": [
    "from torch.utils.data import WeightedRandomSampler\n",
    "weighted_sampler = WeightedRandomSampler(sample_weights, len(sample_weights))"
   ]
  },
  {
   "cell_type": "code",
   "execution_count": 75,
   "metadata": {},
   "outputs": [
    {
     "name": "stdout",
     "output_type": "stream",
     "text": [
      "Using custom sampler\n"
     ]
    }
   ],
   "source": [
    "datasets1, loaders1 = get_loader(weighted_sampler, use_sampler=True)"
   ]
  },
  {
   "cell_type": "code",
   "execution_count": 77,
   "metadata": {},
   "outputs": [
    {
     "name": "stdout",
     "output_type": "stream",
     "text": [
      "[20 24 23 20 10 16 15]\n",
      "[18 15 24 23 18 18 12]\n",
      "[17 23 19 20 21 16 12]\n",
      "[12 19 20 15 19 19 24]\n",
      "[19 17 18 19 22 17 16]\n",
      "[22 11 24 22 15 17 17]\n",
      "[20 16 17 19 22 18 16]\n",
      "[21 18 15 21 17 19 17]\n",
      "[ 8 19 19 25 17 22 18]\n",
      "[17 20 16 23 19 11 22]\n",
      "[16 16 25 17 17 21 16]\n",
      "[26 17 15 16 18 17 19]\n",
      "[20 13 16 20 18 21 20]\n",
      "[17 24 20 13 15 11 28]\n",
      "[14 12 17 21 31 19 14]\n",
      "[15 19 20 27 14 15 18]\n",
      "[23 11 24 27 19 11 13]\n",
      "[17 24 20 18 16 15 18]\n",
      "[23 14 16 19 25 17 14]\n",
      "[23 15 19 15 22 16 18]\n",
      "[12 16 17 16 22 19 26]\n",
      "[21 18 16 26 25 13  9]\n",
      "[16 27 18 21 16 13 17]\n",
      "[19 22 13 21 19 23 11]\n",
      "[26 14 15 14 22 21 16]\n",
      "[20 10 24 16 20 19 19]\n",
      "[12 19 17 15 25 18 22]\n",
      "[11 23 19 17 29 15 14]\n",
      "[20 19 19 15 18 18 19]\n",
      "[19 19 24 15 11 22 18]\n",
      "[24 16 17 10 21 19 21]\n",
      "[23 19 20 18 15 17 16]\n",
      "[18 19 24 21 13 18 15]\n",
      "[14 24 18 17 20 22 13]\n",
      "[17 19 24 11 16 23 18]\n",
      "[24 25  9 27 16 17 10]\n",
      "[ 9 17 14 18 25 28 17]\n",
      "[17 16 16 24 15 24 16]\n",
      "[19 15 20 17 20 23 14]\n",
      "[23 22 14 16 20 15 18]\n",
      "[19 13 19 19 22 16 20]\n",
      "[19 21 16 17 22 19 14]\n",
      "[20 15 22 18 18 14 21]\n",
      "[21 17 17 14 16 22 21]\n",
      "[21 12  9 16 19 26 25]\n",
      "[20 15 15 20 14 28 16]\n",
      "[25 13 19 16 21 21 13]\n",
      "[18 18 17 16 17 22 20]\n",
      "[22 10 23 14 18 18 23]\n",
      "[21 15 26 14 18 15 19]\n",
      "[22 17 21 20 12 23 13]\n",
      "[12 18 31 17 22 16 12]\n",
      "[22 21 16 15 25  9 20]\n",
      "[22 16 17 19 13 18 23]\n",
      "[16 21 21 15 19 16 20]\n",
      "[18 16 14 21 19 21 19]\n",
      "[14 16 16 23 26 12 21]\n",
      "[22 18 17 19 18 18 16]\n",
      "[24 16 18 22 21 15 12]\n",
      "[20 14 19 11 16 25 23]\n",
      "[18 12 17 21 21 22 17]\n",
      "[16 14 23 21 14 19 21]\n",
      "[18 15 16 21 18 23 17]\n",
      "[22 21 22  9 18 16 20]\n",
      "[20 17 19 23 16 21 12]\n",
      "[16 19 16 23 13 19 22]\n",
      "[24 20 19 15 20 18 12]\n",
      "[12 25 15 15 22 20 19]\n",
      "[27 24 18 17 16 12 14]\n",
      "[16 22 18 14 19 24 15]\n",
      "[15 14 19 28 12 23 17]\n",
      "[25 16 15 20 21 12 19]\n",
      "[16 21 28 19 17 19  8]\n",
      "[19 16 16 17 24 16 20]\n",
      "[15 22 16 24 16 15 20]\n",
      "[26 11 14 20 20 21 16]\n",
      "[17 25 17 22 18 16 13]\n",
      "[17 18 15 18 18 19 23]\n",
      "[20 21 18 12 20 21 16]\n",
      "[24 27 16 21 18 13  9]\n",
      "[19 21 18 19 14 20 17]\n",
      "[21 19 19 16 17 18 18]\n",
      "[17  8 24 23 20 23 13]\n",
      "[22 18 22 23 17 10 16]\n",
      "[24 22  8 21 17 19 17]\n",
      "[18 18 15 18 21 19 19]\n",
      "[19 15 21 15 24 16 18]\n",
      "[16 20 16 14 22 21 19]\n",
      "[19 17 24 16 17 17 18]\n",
      "[16 24 18 15 19 20 16]\n",
      "[19 15 23 12 14 26 19]\n",
      "[19 21 16 20 15 16 21]\n",
      "[25 15 24 15 16 20 13]\n",
      "[17 22 19 21 16 14 19]\n",
      "[20  8 19 21 20 19 21]\n",
      "[16 19 19 18 26 12 18]\n",
      "[17 16 22 16 19 15 23]\n",
      "[22 17 11 18 15 21 24]\n",
      "[13 14 18 29 16 18 20]\n",
      "[12 14 26 21 17 20 18]\n",
      "[20 16 20 17 23 22 10]\n",
      "[19 17 23 21 22 11 15]\n",
      "[29 18 16 17 12 20 16]\n",
      "[19 28 13 18  9 22 19]\n",
      "[20 23 17 19 15 15 19]\n",
      "[20 25 24 13 14 19 13]\n",
      "[19 26 16 11 21 21 14]\n",
      "[22 19 21 15 20 14 17]\n",
      "[16 11 19 19 19 23 21]\n",
      "[19 15 23 13 14 22 22]\n",
      "[19 16 19 19 17 15 23]\n",
      "[13 19 29 21 21 14 11]\n",
      "[22 17 17 16 17 20 19]\n",
      "[19 25 17 15 16 14 22]\n",
      "[18 24 16 19 15 16 20]\n",
      "[17 13 22 20 13 25 18]\n",
      "[18 16 16 15 24 17 22]\n",
      "[13 18 24 18 16 20 19]\n",
      "[21 20 20 16 21 16 14]\n",
      "[21 21 18 15 14 18 21]\n",
      "[16 30 21 16 16 14 15]\n",
      "[15 22 21 19 15 20 16]\n",
      "[20 14 19 24 19 15 17]\n",
      "[19 15 15 18 17 23 21]\n",
      "[19 16 21 20 19 18 15]\n",
      "[14 22 22 23 12 17 18]\n",
      "[18 21 25 21 16 13 14]\n",
      "[18 14 18 15 27 17 19]\n",
      "[22 22 21 17 19 12 15]\n",
      "[16 13 21 20 14 25 19]\n",
      "[17 18 20 22 17 21 13]\n",
      "[21 22 25 15 15 11 19]\n",
      "[15 15 11 19 24 20 24]\n",
      "[17 19 26 21 11 25  9]\n",
      "[21 18 16 20 18 17 18]\n",
      "[14 19 25 15 24 16 15]\n",
      "[ 9 14 15 23 23 19 25]\n",
      "[25 14 19 19 18 14 19]\n",
      "[23 25 11 11 19 16 23]\n",
      "[22 20 16 19 13 24 14]\n",
      "[20 13 24 16 16 15 24]\n",
      "[17 26 19 19 15 12 20]\n",
      "[22 16 18 18 15 19 20]\n",
      "[16 25 23 20 15 15 14]\n",
      "[22 15 22 11 22 24 12]\n",
      "[14 14 24 14 16 21 25]\n",
      "[17 25 22 19 13 17 15]\n",
      "[21 14  9 29 20 14 21]\n",
      "[22 16 14 21 17 17 21]\n",
      "[19 23 16 17 17 17 19]\n",
      "[15 14 20 23 19 17 20]\n",
      "[21 18 17 20 13 17 22]\n",
      "[14 20 14 27  9 21 23]\n",
      "[22 22 16 23 15 18 12]\n",
      "[11 15 16 19 23 24 20]\n",
      "[20 22 13 16 21 21 15]\n",
      "[24 13 23 22 18 16 12]\n",
      "[26  9 21 24 13 19 16]\n",
      "[17 17 20 27 18 19 10]\n",
      "[26 24 14 14 13 21 16]\n",
      "[12 19 17 11 28 22 19]\n",
      "[13 20 19 16 16 26 18]\n",
      "[16 21 15 19 21 20 16]\n",
      "[13 16 14 26 23 21 15]\n",
      "[25 13 17 18 17 18 20]\n",
      "[16 17 12 21 29 21 12]\n",
      "[15 14 17 15 24 24 19]\n",
      "[17 18 17 18 20 23 15]\n",
      "[13 17 24 24 13 18 19]\n",
      "[19 22 18 15 20 19 15]\n",
      "[24 21 14 24 16 16 13]\n",
      "[24 21 12 12 18 16 25]\n",
      "[11 11 18 21 29 21 17]\n",
      "[15 24 23 26  8 16 16]\n",
      "[21 19 18 20 17 18 15]\n",
      "[17 16 14 15 19 26 21]\n",
      "[25 20 22 20 14 17 10]\n",
      "[21 17 20  8 20 19 23]\n",
      "[16 17 19 23 18 12 23]\n",
      "[19 20 12 21 19 18 19]\n",
      "[18 18 18 18 16 22 18]\n",
      "[17 17 25 15 19 14 21]\n",
      "[17 17 14 14 23 24 19]\n",
      "[19 16 23 23 22 11 14]\n",
      "[23 21 21 14 16 21 12]\n",
      "[21 16 16 21 24 12 18]\n",
      "[18 17 22 21  8 26 16]\n",
      "[12 19 23 27 16 15 16]\n",
      "[23 15 19 18 21 15 17]\n",
      "[20 22 22 14 17 13 20]\n",
      "[15 19 18 19 21 19 17]\n",
      "[17 18 17 13 16 19 28]\n",
      "[23 19 21 12 16 17 20]\n",
      "[19 20 21 16 24 14 14]\n",
      "[16 18 16 21 23 12 22]\n",
      "[23 20 12 18 20 16 19]\n",
      "[ 7 28 17 18 19 24 15]\n",
      "[13 21 15 20 19 15 25]\n",
      "[23 17 21 15 19 16 17]\n",
      "[19 24 21 14 20 16 14]\n",
      "[12 21 20 28 12 19 16]\n",
      "[14 20 13 23 16 23 19]\n",
      "[13 17 23 23 21 12 19]\n",
      "[19 14 10 20 21 22 22]\n",
      "[20 17 13 25 17 23 13]\n",
      "[21 16 13 14 23 25 16]\n",
      "[22 20 15 17 18 13 23]\n",
      "[19 18 10 23 14 25 19]\n",
      "[3 2 3 1 2 4]\n"
     ]
    }
   ],
   "source": [
    "import numpy as np\n",
    "for images, labels in loaders1['training']:\n",
    "    print(np.unique(labels.numpy(), return_counts=True)[1])"
   ]
  },
  {
   "cell_type": "code",
   "execution_count": 78,
   "metadata": {},
   "outputs": [
    {
     "name": "stdout",
     "output_type": "stream",
     "text": [
      "Imbalanced training\n"
     ]
    }
   ],
   "source": [
    "datasets2, loaders2 = get_loader(weighted_sampler)"
   ]
  },
  {
   "cell_type": "code",
   "execution_count": 79,
   "metadata": {},
   "outputs": [
    {
     "name": "stdout",
     "output_type": "stream",
     "text": [
      "[ 4  3  3 62 34  3 19]\n",
      "[ 8  4  4 57 29  2 24]\n",
      "[ 6  1  1 53 41  2 24]\n",
      "[ 4  3  3 58 35  3 22]\n",
      "[ 3  2  3 56 40  1 23]\n",
      "[ 2  5 58 34  3 26]\n",
      "[ 1  4  3 54 39  1 26]\n",
      "[ 5  2  5 55 38  3 20]\n",
      "[ 5  4  4 67 29  1 18]\n",
      "[ 6  5  3 54 40  4 16]\n",
      "[ 4  4  5 53 28  4 30]\n",
      "[ 6  4  3 47 39  3 26]\n",
      "[ 3  2  2 61 39  2 19]\n",
      "[ 4  4  4 67 30  3 16]\n",
      "[ 5  6 54 37  1 25]\n",
      "[ 4  4  1 58 33  2 26]\n",
      "[ 3  2  1 58 31  2 31]\n",
      "[ 4  2  2 55 33  6 26]\n",
      "[ 3  3  5 39 42  5 31]\n",
      "[ 5  1  1 52 34  6 29]\n",
      "[ 3  3  4 60 40  3 15]\n",
      "[ 5  2  1 67 37  1 15]\n",
      "[ 4  3 53 41  1 26]\n",
      "[ 4  1  8 58 34  3 20]\n",
      "[ 5  3  1 55 39  5 20]\n",
      "[ 7  2  7 52 40  3 17]\n",
      "[ 5  3  7 55 28  4 26]\n",
      "[ 2  1  3 56 35  1 30]\n",
      "[ 4  2  6 53 34  2 27]\n",
      "[ 6  1  5 64 29  3 20]\n",
      "[ 3  1  5 51 42  1 25]\n",
      "[ 3  2  1 53 42  2 25]\n",
      "[ 5  4 46 40  4 29]\n",
      "[ 4  4  1 58 40  5 16]\n",
      "[ 5  3  6 55 26  3 30]\n",
      "[ 4  1  5 58 33  2 25]\n",
      "[ 3  2  2 53 40  2 26]\n",
      "[ 3  4  7 54 37  3 20]\n",
      "[ 5  2  4 69 32  1 15]\n",
      "[ 5  1  4 61 36  3 18]\n",
      "[ 9  2  3 60 27  1 26]\n",
      "[ 5  4  2 51 39  2 25]\n",
      "[ 2  1  5 61 35  1 23]\n",
      "[ 3  5  5 56 34  2 23]\n",
      "[ 5  3  6 46 40  6 22]\n",
      "[ 2  4  6 55 28  6 27]\n",
      "[ 5  3 61 39  3 17]\n",
      "[ 6  4  4 61 27  9 17]\n",
      "[ 6  1 55 42  5 19]\n",
      "[ 3  2  5 68 29  1 20]\n",
      "[ 5  2  7 50 31  6 27]\n",
      "[ 5  3  3 61 30  4 22]\n",
      "[ 5  1  3 63 29  2 25]\n",
      "[ 6  2  6 55 38  1 20]\n",
      "[ 6  1 62 31  4 24]\n",
      "[ 6  2  1 64 32  5 18]\n",
      "[ 5  1  2 55 44  2 19]\n",
      "[ 4  3  6 49 43  3 20]\n",
      "[ 4  4 51 44  1 24]\n",
      "[ 4  1  3 53 40  3 24]\n",
      "[ 6  1  4 57 34  3 23]\n",
      "[ 4  2  7 52 29  4 30]\n",
      "[ 9  1  4 56 39  2 17]\n",
      "[ 6  4  3 49 38  3 25]\n",
      "[ 2  4  4 52 33  9 24]\n",
      "[ 4  4  5 55 41 19]\n",
      "[ 8  6 61 32  1 20]\n",
      "[ 5  1  3 56 38  3 22]\n",
      "[ 2  9 58 36  3 20]\n",
      "[ 3  2  4 58 39 22]\n",
      "[ 5  2  5 52 37 27]\n",
      "[ 2  4  1 60 26  5 30]\n",
      "[ 2  2  5 46 45  3 25]\n",
      "[ 6  6  5 52 30  2 27]\n",
      "[ 4  1  4 60 33  2 24]\n",
      "[ 4  1 10 54 29  2 28]\n",
      "[ 2  3  1 62 33  3 24]\n",
      "[ 7  7  1 49 36  4 24]\n",
      "[ 3  1  2 60 38  4 20]\n",
      "[ 4  5  3 53 34  2 27]\n",
      "[ 6  2  3 61 31  4 21]\n",
      "[ 7  5  3 55 32  4 22]\n",
      "[ 5  3  3 54 38  3 22]\n",
      "[ 4  6  4 54 31  3 26]\n",
      "[ 4  4 67 24  4 25]\n",
      "[ 5  2  4 55 36  4 22]\n",
      "[ 3  4 55 35  5 26]\n",
      "[ 1  1  3 70 27  1 25]\n",
      "[ 4  6 55 35  1 27]\n",
      "[ 3  2  6 52 37  4 24]\n",
      "[ 7  1  3 56 37  7 17]\n",
      "[ 3  1  5 63 36  1 19]\n",
      "[ 5  1  5 59 32  2 24]\n",
      "[ 5  3  2 54 34  2 28]\n",
      "[ 4  2  5 57 32  4 24]\n",
      "[ 4  3  2 49 39  3 28]\n",
      "[ 4  1  8 55 31 29]\n",
      "[ 2  2  4 63 30  4 23]\n",
      "[ 3  2  5 66 31  1 20]\n",
      "[ 6  6 52 34  4 26]\n",
      "[ 5  4 51 38  1 29]\n",
      "[ 9  3 54 37  2 23]\n",
      "[ 7  3  1 57 36  3 21]\n",
      "[ 5  1  2 50 36  4 30]\n",
      "[ 3  4  3 62 35  5 16]\n",
      "[ 3  2  2 59 43  3 16]\n",
      "[ 3  1  2 63 35  1 23]\n",
      "[ 5  4 68 25  2 24]\n",
      "[12  2  3 53 35  2 21]\n",
      "[ 2  5  7 51 38  1 24]\n",
      "[ 4  1 74 29  2 18]\n",
      "[ 5  1  5 60 31  4 22]\n",
      "[ 6  4 58 31  4 25]\n",
      "[ 4  1  7 60 39  1 16]\n",
      "[ 3  1 65 35  4 20]\n",
      "[ 3  2  6 53 35  1 28]\n",
      "[ 5  1  3 52 38  2 27]\n",
      "[ 6  1  4 56 33  3 25]\n",
      "[ 4  2  3 52 42  3 22]\n",
      "[ 7  1  1 58 41 20]\n",
      "[ 4  1  4 56 39  3 21]\n",
      "[ 8  5  4 52 28  5 26]\n",
      "[ 3  4  3 62 28  1 27]\n",
      "[ 2  5  3 67 30  2 19]\n",
      "[ 6  1  5 60 29  2 25]\n",
      "[ 6  4 55 35  2 26]\n",
      "[ 2  3  8 59 31  1 24]\n",
      "[ 7  4  1 61 33  3 19]\n",
      "[ 5  2  4 55 35  2 25]\n",
      "[ 3  2  4 58 31  2 28]\n",
      "[ 4  2  3 45 45  5 24]\n",
      "[ 7  3  1 52 37  3 25]\n",
      "[ 6  5  3 56 30  3 25]\n",
      "[ 6  2  3 60 34  2 21]\n",
      "[ 3  4  5 55 36  3 22]\n",
      "[ 4  1  2 57 37  4 23]\n",
      "[ 3  1  6 55 38  2 23]\n",
      "[ 4  3  7 55 34  4 21]\n",
      "[ 2  2  3 61 40  2 18]\n",
      "[ 3  1  4 60 36  3 21]\n",
      "[ 7  2  5 48 36  2 28]\n",
      "[ 6  2  2 51 45  2 20]\n",
      "[ 2  2  5 60 35  3 21]\n",
      "[ 9  4  8 52 39 16]\n",
      "[ 1  3  5 60 39  4 16]\n",
      "[ 6  2  7 52 32  3 26]\n",
      "[ 5  2  4 48 35  3 31]\n",
      "[ 4  3  3 61 32  1 24]\n",
      "[ 3  1  4 59 39  7 15]\n",
      "[ 8  3  5 48 26  6 32]\n",
      "[ 3  2  5 57 40  2 19]\n",
      "[ 5  4  1 42 47  2 27]\n",
      "[ 4  2  3 58 43  3 15]\n",
      "[ 2  5  3 49 46  1 22]\n",
      "[ 6  1  7 55 40  5 14]\n",
      "[ 4  4  4 62 30  2 22]\n",
      "[ 7  3 56 32  1 29]\n",
      "[ 3  1  4 52 38  3 27]\n",
      "[ 5  4  3 56 27  4 29]\n",
      "[ 5  4  6 51 39  1 22]\n",
      "[ 2  3  2 55 38  2 26]\n",
      "[ 5  3  4 58 31  2 25]\n",
      "[ 7  3  1 52 43  2 20]\n",
      "[ 6  2  5 58 29  5 23]\n",
      "[ 3  6  5 48 41  3 22]\n",
      "[ 4  2  6 57 34  5 20]\n",
      "[ 5  1  7 54 36  3 22]\n",
      "[ 4  2  2 56 40  3 21]\n",
      "[ 8  1  2 49 29 10 29]\n",
      "[ 1  3  1 66 30  1 26]\n",
      "[ 3  6  3 56 22  3 35]\n",
      "[ 4  3  2 63 25  1 30]\n",
      "[ 3  3  4 47 39  4 28]\n",
      "[ 3  1  1 57 33  3 30]\n",
      "[ 5  7  2 61 36  2 15]\n",
      "[ 1  3  5 51 39  6 23]\n",
      "[ 5  3  2 52 34  3 29]\n",
      "[ 3  2 53 42  6 22]\n",
      "[ 7  4  1 71 22 23]\n",
      "[ 4  2  3 66 32  4 17]\n",
      "[ 5  1  3 56 41  4 18]\n",
      "[ 4  2  4 68 31  3 16]\n",
      "[ 8  4  3 52 31  4 26]\n",
      "[ 3  4  5 55 27 34]\n",
      "[ 7  3  2 55 38  1 22]\n",
      "[ 7  1  4 57 34  5 20]\n",
      "[ 2  2  6 57 28  5 28]\n",
      "[ 3  3  5 52 34  3 28]\n",
      "[ 6  2  8 54 29  5 24]\n",
      "[ 4  4  7 50 31  3 29]\n",
      "[ 6  4  5 56 31  1 25]\n",
      "[ 3  3  2 65 38  1 16]\n",
      "[ 3  2  4 58 31  3 27]\n",
      "[ 5  1  8 58 33  2 21]\n",
      "[ 4  2  5 63 30  3 21]\n",
      "[ 7  2  4 56 36  5 18]\n",
      "[ 1  4  5 59 29  1 29]\n",
      "[ 2  4  9 56 30  1 26]\n",
      "[ 6  1  6 56 28  5 26]\n",
      "[ 7  3  2 56 38  2 20]\n",
      "[ 5  1  6 42 41  4 29]\n",
      "[ 6  2  4 60 29  6 21]\n",
      "[ 2  2  3 58 39  2 22]\n",
      "[ 4  1 66 37  4 16]\n",
      "[ 6  1  6 63 27  1 24]\n",
      "[10  4  4 47 37  1 25]\n",
      "[ 9  5  3 56 29  3 23]\n",
      "[ 6  2  5 65 30  4 16]\n",
      "[2 7 6]\n"
     ]
    }
   ],
   "source": [
    "import numpy as np\n",
    "for images, labels in loaders2['training']:\n",
    "    print(np.unique(labels.numpy(), return_counts=True)[1])"
   ]
  },
  {
   "cell_type": "code",
   "execution_count": 95,
   "metadata": {},
   "outputs": [],
   "source": [
    "h = datasets2['training'].class_to_idx"
   ]
  },
  {
   "cell_type": "code",
   "execution_count": null,
   "metadata": {},
   "outputs": [],
   "source": []
  },
  {
   "cell_type": "code",
   "execution_count": 96,
   "metadata": {
    "colab": {
     "base_uri": "https://localhost:8080/"
    },
    "executionInfo": {
     "elapsed": 343542,
     "status": "ok",
     "timestamp": 1614106748089,
     "user": {
      "displayName": "Natnael Taye",
      "photoUrl": "https://lh3.googleusercontent.com/a-/AOh14GhLsOfPayUDuhnA0fYfbsxcWRCTOwPzHALWfRPL8g=s64",
      "userId": "14979943471241687010"
     },
     "user_tz": 300
    },
    "id": "sW0oK6W-_5n1",
    "outputId": "81ca46ff-c713-4cc5-9b07-df208252388b"
   },
   "outputs": [
    {
     "name": "stdout",
     "output_type": "stream",
     "text": [
      "3      Pickup Utility Truck      11747\n",
      "4     CargoBoxFlatbedTrucks       7230\n",
      "5             Truck Tractor        599\n",
      "6                       Bus       4824\n",
      "2                      Shed        801\n",
      "0                Dump Truck        945\n",
      "1          TractorBulldozer        493\n",
      "26639\n"
     ]
    }
   ],
   "source": [
    "total_num_of_images = 0\n",
    "class_counts = {}\n",
    "for subdir, dirs, files in os.walk(data_dir+'train_images_top7_weak_split/train'):\n",
    "    if len(files)>0:\n",
    "        print(f'{h[subdir[-2:].split(\"/\")[-1]]} {id2label.get(subdir[-2:].split(\"/\")[-1],-1):>25} {len(files):>10}')\n",
    "        class_counts[id2label.get(subdir[-2:].split(\"/\")[-1],-1)] = len(files)\n",
    "        total_num_of_images+=len(files)\n",
    "print(total_num_of_images)"
   ]
  },
  {
   "cell_type": "code",
   "execution_count": 3,
   "metadata": {},
   "outputs": [],
   "source": [
    "import shutil"
   ]
  },
  {
   "cell_type": "code",
   "execution_count": 4,
   "metadata": {},
   "outputs": [
    {
     "data": {
      "text/plain": [
       "'./sample_submission.csv'"
      ]
     },
     "execution_count": 4,
     "metadata": {},
     "output_type": "execute_result"
    }
   ],
   "source": [
    "shutil.copy('./data/sample_submission.csv', './')"
   ]
  },
  {
   "cell_type": "code",
   "execution_count": 1,
   "metadata": {},
   "outputs": [
    {
     "data": {
      "text/plain": [
       "'/home/abhijit/nat/CAP5610/project'"
      ]
     },
     "execution_count": 1,
     "metadata": {},
     "output_type": "execute_result"
    }
   ],
   "source": [
    "pwd"
   ]
  },
  {
   "cell_type": "code",
   "execution_count": 5,
   "metadata": {},
   "outputs": [
    {
     "name": "stdout",
     "output_type": "stream",
     "text": [
      "/home/abhijit/nat/CAP5610/project\r\n"
     ]
    }
   ],
   "source": [
    "!pwd"
   ]
  },
  {
   "cell_type": "code",
   "execution_count": 104,
   "metadata": {},
   "outputs": [],
   "source": [
    "transform=transforms.Compose([\n",
    "            # transforms.RandomResizedCrop(224,(1/1.15, 1.15), (0.7561, 1.3225)),\n",
    "            transforms.RandomVerticalFlip(),\n",
    "            transforms.Resize((224,224))\n",
    ",\n",
    "            transforms.ToTensor()])\n",
    "data_dir = './data/'\n",
    "#os.chdir('../CAP5610/project/')\n",
    "dataset = ImageFolder(data_dir+'test',transform=transform,)\n",
    "\n",
    "#trainset, valset = random_split(dataset, [189829, 81355])\n",
    "\n",
    "trainloader = torch.utils.data.DataLoader(dataset, batch_size=16, shuffle=False)"
   ]
  },
  {
   "cell_type": "code",
   "execution_count": 92,
   "metadata": {},
   "outputs": [],
   "source": [
    "a = next(iter(trainloader))"
   ]
  },
  {
   "cell_type": "code",
   "execution_count": 84,
   "metadata": {},
   "outputs": [
    {
     "data": {
      "text/plain": [
       "<matplotlib.image.AxesImage at 0x7fd0f0415e10>"
      ]
     },
     "execution_count": 84,
     "metadata": {},
     "output_type": "execute_result"
    },
    {
     "data": {
      "image/png": "[encoded data removed]",
      "text/plain": [
       "<Figure size 432x288 with 1 Axes>"
      ]
     },
     "metadata": {
      "needs_background": "light"
     },
     "output_type": "display_data"
    }
   ],
   "source": [
    "import matplotlib.pyplot as plt\n",
    "plt.imshow(a[0][1].permute(1, 2, 0))"
   ]
  },
  {
   "cell_type": "code",
   "execution_count": 35,
   "metadata": {},
   "outputs": [
    {
     "data": {
      "text/plain": [
       "[('./data/test/0/05113073b268.png', 0),\n",
       " ('./data/test/0/0709652336e2.png', 0),\n",
       " ('./data/test/0/070d4ce5fd90.png', 0),\n",
       " ('./data/test/0/08c60c647673.png', 0),\n",
       " ('./data/test/0/0d9a9896f801.png', 0),\n",
       " ('./data/test/0/0da632ca45e0.png', 0),\n",
       " ('./data/test/0/0e0003ddd8df.png', 0),\n",
       " ('./data/test/0/0fe31196e0e8.png', 0),\n",
       " ('./data/test/0/10bf25731c08.png', 0),\n",
       " ('./data/test/0/10de500cf0c5.png', 0),\n",
       " ('./data/test/0/11d8e5eaee5b.png', 0),\n",
       " ('./data/test/0/12ef75375322.png', 0),\n",
       " ('./data/test/0/15b21c80cc31.png', 0),\n",
       " ('./data/test/0/15f8d769935c.png', 0),\n",
       " ('./data/test/0/1601c939412f.png', 0),\n",
       " ('./data/test/0/1633f8291a80.png', 0),\n",
       " ('./data/test/0/17d7d6b092f4.png', 0),\n",
       " ('./data/test/0/18cde9649e90.png', 0),\n",
       " ('./data/test/0/1fb455685328.png', 0),\n",
       " ('./data/test/0/218c822a3dd9.png', 0),\n",
       " ('./data/test/0/2585bbc91909.png', 0),\n",
       " ('./data/test/0/2923971566fe.png', 0),\n",
       " ('./data/test/0/2b10f138e67d.png', 0),\n",
       " ('./data/test/0/2f8d14a7d390.png', 0),\n",
       " ('./data/test/0/318eb706a134.png', 0),\n",
       " ('./data/test/0/3325b1fe55d2.png', 0),\n",
       " ('./data/test/0/34acae864963.png', 0),\n",
       " ('./data/test/0/35ac70c0d08f.png', 0),\n",
       " ('./data/test/0/35cd9832fc0a.png', 0),\n",
       " ('./data/test/0/38f1901f214a.png', 0),\n",
       " ('./data/test/0/3ac92ac3d65a.png', 0),\n",
       " ('./data/test/0/3ca8be3b40d6.png', 0),\n",
       " ('./data/test/0/3f6bccf21ce8.png', 0),\n",
       " ('./data/test/0/3f6c627e2ff2.png', 0),\n",
       " ('./data/test/0/405085b53d7b.png', 0),\n",
       " ('./data/test/0/415f2d2bd2a1.png', 0),\n",
       " ('./data/test/0/42af7282349b.png', 0),\n",
       " ('./data/test/0/43f22d1be8dd.png', 0),\n",
       " ('./data/test/0/4554062fa836.png', 0),\n",
       " ('./data/test/0/48a45619d1a3.png', 0),\n",
       " ('./data/test/0/4cfd22ae43d4.png', 0),\n",
       " ('./data/test/0/4e85aa647534.png', 0),\n",
       " ('./data/test/0/4eabad7948cf.png', 0),\n",
       " ('./data/test/0/4ffa38550c95.png', 0),\n",
       " ('./data/test/0/50d8249f7bc9.png', 0),\n",
       " ('./data/test/0/511fd66b2df8.png', 0),\n",
       " ('./data/test/0/51aa3361294c.png', 0),\n",
       " ('./data/test/0/57db4781e7ec.png', 0),\n",
       " ('./data/test/0/5889a0c75cac.png', 0),\n",
       " ('./data/test/0/5db2e3a4594a.png', 0),\n",
       " ('./data/test/0/5db895d3f1fc.png', 0),\n",
       " ('./data/test/0/5ead17e894ae.png', 0),\n",
       " ('./data/test/0/606daaf0bfc7.png', 0),\n",
       " ('./data/test/0/609be3ca5ddf.png', 0),\n",
       " ('./data/test/0/6110ecb3bb1c.png', 0),\n",
       " ('./data/test/0/6653ad026901.png', 0),\n",
       " ('./data/test/0/66b88a4bc474.png', 0),\n",
       " ('./data/test/0/6bcce181be65.png', 0),\n",
       " ('./data/test/0/6bf26b777e3a.png', 0),\n",
       " ('./data/test/0/6c30dd481717.png', 0),\n",
       " ('./data/test/0/6ccfdb031184.png', 0),\n",
       " ('./data/test/0/6cee2e148520.png', 0),\n",
       " ('./data/test/0/6cffc6c6851a.png', 0),\n",
       " ('./data/test/0/6e0f78e188ff.png', 0),\n",
       " ('./data/test/0/6fe67fd7f5d1.png', 0),\n",
       " ('./data/test/0/70d0392397de.png', 0),\n",
       " ('./data/test/0/75a071608ea6.png', 0),\n",
       " ('./data/test/0/763ad1236efe.png', 0),\n",
       " ('./data/test/0/780f9c237c56.png', 0),\n",
       " ('./data/test/0/780f9daaa24b.png', 0),\n",
       " ('./data/test/0/7a46cfa69bae.png', 0),\n",
       " ('./data/test/0/7b9d519cbd66.png', 0),\n",
       " ('./data/test/0/7ce671f952be.png', 0),\n",
       " ('./data/test/0/8185ce1cdcef.png', 0),\n",
       " ('./data/test/0/81d79d53ed7b.png', 0),\n",
       " ('./data/test/0/83038ca49b6d.png', 0),\n",
       " ('./data/test/0/830e297965a1.png', 0),\n",
       " ('./data/test/0/837acf120946.png', 0),\n",
       " ('./data/test/0/851e40a21f81.png', 0),\n",
       " ('./data/test/0/8906c9ed54a2.png', 0),\n",
       " ('./data/test/0/8a3eb86ae4bd.png', 0),\n",
       " ('./data/test/0/8a87dd2a784e.png', 0),\n",
       " ('./data/test/0/8b568d47a1fd.png', 0),\n",
       " ('./data/test/0/8b58f9a338e8.png', 0),\n",
       " ('./data/test/0/9232dc06cfdc.png', 0),\n",
       " ('./data/test/0/930fee99213a.png', 0),\n",
       " ('./data/test/0/94f9ecf4b8d2.png', 0),\n",
       " ('./data/test/0/97fdee242fea.png', 0),\n",
       " ('./data/test/0/9c14ce27cbfc.png', 0),\n",
       " ('./data/test/0/9d62478042b6.png', 0),\n",
       " ('./data/test/0/9de9421f17e3.png', 0),\n",
       " ('./data/test/0/9e5737f771c3.png', 0),\n",
       " ('./data/test/0/9e7a63b2fc6a.png', 0),\n",
       " ('./data/test/0/a0445785e2f7.png', 0),\n",
       " ('./data/test/0/a1822dd8d05d.png', 0),\n",
       " ('./data/test/0/a1e236fbc863.png', 0),\n",
       " ('./data/test/0/a30a143a53a3.png', 0),\n",
       " ('./data/test/0/a3bd2e034614.png', 0),\n",
       " ('./data/test/0/a528be013a04.png', 0),\n",
       " ('./data/test/0/a61723fc38c2.png', 0),\n",
       " ('./data/test/0/a62e995f167c.png', 0),\n",
       " ('./data/test/0/a6b6d27c1b32.png', 0),\n",
       " ('./data/test/0/a8dea22ef903.png', 0),\n",
       " ('./data/test/0/a94da3d3b5c0.png', 0),\n",
       " ('./data/test/0/a987aa7aac37.png', 0),\n",
       " ('./data/test/0/a9b3177f01c0.png', 0),\n",
       " ('./data/test/0/aabd867043cf.png', 0),\n",
       " ('./data/test/0/abe940882578.png', 0),\n",
       " ('./data/test/0/ac81fc200162.png', 0),\n",
       " ('./data/test/0/ae58ccb5905e.png', 0),\n",
       " ('./data/test/0/af6a1508cd95.png', 0),\n",
       " ('./data/test/0/b05922e7abd3.png', 0),\n",
       " ('./data/test/0/b086c7cd3868.png', 0),\n",
       " ('./data/test/0/b0b3b16fc305.png', 0),\n",
       " ('./data/test/0/b21abe5d9722.png', 0),\n",
       " ('./data/test/0/b294927b14b0.png', 0),\n",
       " ('./data/test/0/b351ae99413a.png', 0),\n",
       " ('./data/test/0/b532dedd928c.png', 0),\n",
       " ('./data/test/0/b553e7909535.png', 0),\n",
       " ('./data/test/0/b5a3ca5c0a80.png', 0),\n",
       " ('./data/test/0/b8dab47a260e.png', 0),\n",
       " ('./data/test/0/b8e9a8f4617d.png', 0),\n",
       " ('./data/test/0/b9fe7da14a32.png', 0),\n",
       " ('./data/test/0/bb752b179751.png', 0),\n",
       " ('./data/test/0/bc34f52c37c7.png', 0),\n",
       " ('./data/test/0/bc8c6a778cde.png', 0),\n",
       " ('./data/test/0/be7f791a7877.png', 0),\n",
       " ('./data/test/0/beb00fa6e7c9.png', 0),\n",
       " ('./data/test/0/bf6cbccacf39.png', 0),\n",
       " ('./data/test/0/bf7221a016b5.png', 0),\n",
       " ('./data/test/0/c12e9ca420a5.png', 0),\n",
       " ('./data/test/0/c1819db0aece.png', 0),\n",
       " ('./data/test/0/c334f8688b77.png', 0),\n",
       " ('./data/test/0/c597ef460944.png', 0),\n",
       " ('./data/test/0/c5b58cc992af.png', 0),\n",
       " ('./data/test/0/c64c0966b4cf.png', 0),\n",
       " ('./data/test/0/cae33655ca00.png', 0),\n",
       " ('./data/test/0/cd01672507c9.png', 0),\n",
       " ('./data/test/0/cd48cfab4e44.png', 0),\n",
       " ('./data/test/0/cf6551521a35.png', 0),\n",
       " ('./data/test/0/d160ebef4117.png', 0),\n",
       " ('./data/test/0/d16e59a2b33a.png', 0),\n",
       " ('./data/test/0/d1afdb8cf70d.png', 0),\n",
       " ('./data/test/0/d2cd47ed2c1d.png', 0),\n",
       " ('./data/test/0/d2d523e9f669.png', 0),\n",
       " ('./data/test/0/d5c63a8d9e94.png', 0),\n",
       " ('./data/test/0/d6b109c82067.png', 0),\n",
       " ('./data/test/0/d74ccc796517.png', 0),\n",
       " ('./data/test/0/d7bc00091cfc.png', 0),\n",
       " ('./data/test/0/d838d5b9f571.png', 0),\n",
       " ('./data/test/0/d865997a6280.png', 0),\n",
       " ('./data/test/0/d91635f380b4.png', 0),\n",
       " ('./data/test/0/da3a2275c850.png', 0),\n",
       " ('./data/test/0/da9fe02dead3.png', 0),\n",
       " ('./data/test/0/dc0eea0b68a7.png', 0),\n",
       " ('./data/test/0/dea7538bb91a.png', 0),\n",
       " ('./data/test/0/e1dc02a3dc2a.png', 0),\n",
       " ('./data/test/0/e251bdf05b85.png', 0),\n",
       " ('./data/test/0/e29e54ff921e.png', 0),\n",
       " ('./data/test/0/e632e38fd2d4.png', 0),\n",
       " ('./data/test/0/e6552b7432b3.png', 0),\n",
       " ('./data/test/0/e79e10907295.png', 0),\n",
       " ('./data/test/0/e7b5dd5bab1f.png', 0),\n",
       " ('./data/test/0/e8e44b3160e3.png', 0),\n",
       " ('./data/test/0/e907d23cce3d.png', 0),\n",
       " ('./data/test/0/e9678824215d.png', 0),\n",
       " ('./data/test/0/e9f3c85a2a02.png', 0),\n",
       " ('./data/test/0/ea6a53e54d0f.png', 0),\n",
       " ('./data/test/0/ea9c41e1ced0.png', 0),\n",
       " ('./data/test/0/ed2c52c14493.png', 0),\n",
       " ('./data/test/0/ef247f28004f.png', 0),\n",
       " ('./data/test/0/ef99c499d665.png', 0),\n",
       " ('./data/test/0/f1d719c97838.png', 0),\n",
       " ('./data/test/0/f531232ecb55.png', 0),\n",
       " ('./data/test/0/f71333204618.png', 0),\n",
       " ('./data/test/0/f9e1c439d4c8.png', 0),\n",
       " ('./data/test/0/fa9f1bc03f21.png', 0),\n",
       " ('./data/test/0/fb767cea406c.png', 0),\n",
       " ('./data/test/0/fc898dfeb24f.png', 0),\n",
       " ('./data/test/0/fe3f62695b2d.png', 0),\n",
       " ('./data/test/0/ff03f74667df.png', 0),\n",
       " ('./data/test/1/0684311afdfc.png', 1),\n",
       " ('./data/test/1/172df1330a60.png', 1),\n",
       " ('./data/test/1/25e9fd872182.png', 1),\n",
       " ('./data/test/1/2994f17f58a5.png', 1),\n",
       " ('./data/test/1/384631079d1e.png', 1),\n",
       " ('./data/test/1/3b73a3a4a734.png', 1),\n",
       " ('./data/test/1/4a213b405ee4.png', 1),\n",
       " ('./data/test/1/531b39880c32.png', 1),\n",
       " ('./data/test/1/63363410389a.png', 1),\n",
       " ('./data/test/1/63a03880939c.png', 1),\n",
       " ('./data/test/1/64678182d8a8.png', 1),\n",
       " ('./data/test/1/6b00cb764237.png', 1),\n",
       " ('./data/test/1/71c1a3cdbe47.png', 1),\n",
       " ('./data/test/1/7335a2d43ada.png', 1),\n",
       " ('./data/test/1/756b0d6488bb.png', 1),\n",
       " ('./data/test/1/76e589911303.png', 1),\n",
       " ('./data/test/1/77a9538b8362.png', 1),\n",
       " ('./data/test/1/7ef5ff774a48.png', 1),\n",
       " ('./data/test/1/8114d6a160df.png', 1),\n",
       " ('./data/test/1/83e529e95b0e.png', 1),\n",
       " ('./data/test/1/84a72e15b23c.png', 1),\n",
       " ('./data/test/1/8ef2eb8c51c4.png', 1),\n",
       " ('./data/test/1/9a3109657ac1.png', 1),\n",
       " ('./data/test/1/ad1f7445b1a8.png', 1),\n",
       " ('./data/test/1/b7278b4f2448.png', 1),\n",
       " ('./data/test/1/c1ebe785503a.png', 1),\n",
       " ('./data/test/1/c9485c38fdd5.png', 1),\n",
       " ('./data/test/1/ca63fe4f4b52.png', 1),\n",
       " ('./data/test/1/cfd1bd0fcbb4.png', 1),\n",
       " ('./data/test/1/d66ccb75ada1.png', 1),\n",
       " ('./data/test/1/e25ccfe38e44.png', 1),\n",
       " ('./data/test/1/e38f3a65b02b.png', 1),\n",
       " ('./data/test/1/e9286ddf6ffe.png', 1),\n",
       " ('./data/test/1/e9ff9352ccb3.png', 1),\n",
       " ('./data/test/1/f55e1d2a19e4.png', 1),\n",
       " ('./data/test/1/f762c272c522.png', 1),\n",
       " ('./data/test/1/fca931da5c5e.png', 1),\n",
       " ('./data/test/2/033f2b43de6d.png', 2),\n",
       " ('./data/test/2/0415fc68b176.png', 2),\n",
       " ('./data/test/2/041f09eec1e8.png', 2),\n",
       " ('./data/test/2/0c76fd494af6.png', 2),\n",
       " ('./data/test/2/0ca0aee4d57e.png', 2),\n",
       " ('./data/test/2/0fd16b64697e.png', 2),\n",
       " ('./data/test/2/1269ab57c2e6.png', 2),\n",
       " ('./data/test/2/12e6e66c80a7.png', 2),\n",
       " ('./data/test/2/1414128bead0.png', 2),\n",
       " ('./data/test/2/1bea04b2bb2d.png', 2),\n",
       " ('./data/test/2/1c5ad36fb799.png', 2),\n",
       " ('./data/test/2/1dfbede13143.png', 2),\n",
       " ('./data/test/2/27bab1432f61.png', 2),\n",
       " ('./data/test/2/290ecdba359f.png', 2),\n",
       " ('./data/test/2/2e79041ef722.png', 2),\n",
       " ('./data/test/2/2fdffb6160a6.png', 2),\n",
       " ('./data/test/2/310c27067ac0.png', 2),\n",
       " ('./data/test/2/39923b29988a.png', 2),\n",
       " ('./data/test/2/3e1f8fecb06f.png', 2),\n",
       " ('./data/test/2/42a67337fa8e.png', 2),\n",
       " ('./data/test/2/453a1e2754b2.png', 2),\n",
       " ('./data/test/2/4a44cc840ebe.png', 2),\n",
       " ('./data/test/2/4b1001050f1d.png', 2),\n",
       " ('./data/test/2/4c52922f3bfd.png', 2),\n",
       " ('./data/test/2/51405d042000.png', 2),\n",
       " ('./data/test/2/5152bf091152.png', 2),\n",
       " ('./data/test/2/52886bed8a07.png', 2),\n",
       " ('./data/test/2/547b37da9223.png', 2),\n",
       " ('./data/test/2/55fd453001cc.png', 2),\n",
       " ('./data/test/2/57a5f1015504.png', 2),\n",
       " ('./data/test/2/57ce57a8cfb0.png', 2),\n",
       " ('./data/test/2/5cc6dea19614.png', 2),\n",
       " ('./data/test/2/5e7cc6ab4ac4.png', 2),\n",
       " ('./data/test/2/624fb7317106.png', 2),\n",
       " ('./data/test/2/6363b360aefb.png', 2),\n",
       " ('./data/test/2/650fbed3fdca.png', 2),\n",
       " ('./data/test/2/69591ebb198d.png', 2),\n",
       " ('./data/test/2/6ba5ed791444.png', 2),\n",
       " ('./data/test/2/7350c50667c5.png', 2),\n",
       " ('./data/test/2/7550966ef777.png', 2),\n",
       " ('./data/test/2/760b6f4c6d82.png', 2),\n",
       " ('./data/test/2/83b61051737f.png', 2),\n",
       " ('./data/test/2/879744b9dc65.png', 2),\n",
       " ('./data/test/2/89d2a7403a06.png', 2),\n",
       " ('./data/test/2/8d62ba9cb22a.png', 2),\n",
       " ('./data/test/2/8dba09a4e5ed.png', 2),\n",
       " ('./data/test/2/92b0d27fc0ec.png', 2),\n",
       " ('./data/test/2/92f313287a29.png', 2),\n",
       " ('./data/test/2/932181b93b2f.png', 2),\n",
       " ('./data/test/2/96c3e3db68bc.png', 2),\n",
       " ('./data/test/2/98e8adcf085c.png', 2),\n",
       " ('./data/test/2/9a78c6a7b1c2.png', 2),\n",
       " ('./data/test/2/9c088d2d1559.png', 2),\n",
       " ('./data/test/2/9cedf5c7016b.png', 2),\n",
       " ('./data/test/2/9df31421cdd2.png', 2),\n",
       " ('./data/test/2/9faad91b6578.png', 2),\n",
       " ('./data/test/2/a015ce4f51ad.png', 2),\n",
       " ('./data/test/2/a01c590c444f.png', 2),\n",
       " ('./data/test/2/a3475dc3ac80.png', 2),\n",
       " ('./data/test/2/a386ec9aabde.png', 2),\n",
       " ('./data/test/2/a66c3165876f.png', 2),\n",
       " ('./data/test/2/a790a3b36390.png', 2),\n",
       " ('./data/test/2/a87f53bc984a.png', 2),\n",
       " ('./data/test/2/a9a28c37c8c4.png', 2),\n",
       " ('./data/test/2/aa9b8f05f4bf.png', 2),\n",
       " ('./data/test/2/abf09c44d5f4.png', 2),\n",
       " ('./data/test/2/aef9016557ca.png', 2),\n",
       " ('./data/test/2/b0cc9f8d06e4.png', 2),\n",
       " ('./data/test/2/b0d6417bad3e.png', 2),\n",
       " ('./data/test/2/b402daa0864c.png', 2),\n",
       " ('./data/test/2/b99c825b93c5.png', 2),\n",
       " ('./data/test/2/bca2bdc15fc5.png', 2),\n",
       " ('./data/test/2/bf9cba745efc.png', 2),\n",
       " ('./data/test/2/c3acf47700ea.png', 2),\n",
       " ('./data/test/2/c6c2bad91f23.png', 2),\n",
       " ('./data/test/2/c6e1e9fbf39b.png', 2),\n",
       " ('./data/test/2/ca7f5caddf96.png', 2),\n",
       " ('./data/test/2/ca891d37a43c.png', 2),\n",
       " ('./data/test/2/cb602182cde3.png', 2),\n",
       " ('./data/test/2/cbf0394039f8.png', 2),\n",
       " ('./data/test/2/cc839823755b.png', 2),\n",
       " ('./data/test/2/cca626a0e19a.png', 2),\n",
       " ('./data/test/2/cd3fd04d72f5.png', 2),\n",
       " ('./data/test/2/d264396d8d1a.png', 2),\n",
       " ('./data/test/2/d364423ec6f9.png', 2),\n",
       " ('./data/test/2/d6283ded6aea.png', 2),\n",
       " ('./data/test/2/da0a1043abf7.png', 2),\n",
       " ('./data/test/2/dee687c6e88a.png', 2),\n",
       " ('./data/test/2/e3e490babc0c.png', 2),\n",
       " ('./data/test/2/e65a2ff90494.png', 2),\n",
       " ('./data/test/2/e65f94ad9be3.png', 2),\n",
       " ('./data/test/2/e6f0ce5bf282.png', 2),\n",
       " ('./data/test/2/e9f82b5bbaf4.png', 2),\n",
       " ('./data/test/2/ea4dcb055139.png', 2),\n",
       " ('./data/test/2/eb32a815f78c.png', 2),\n",
       " ('./data/test/2/ed88faaa325a.png', 2),\n",
       " ('./data/test/2/ee059945b08a.png', 2),\n",
       " ('./data/test/2/f30f203ef51e.png', 2),\n",
       " ('./data/test/2/f5e9a307288c.png', 2),\n",
       " ('./data/test/2/fa748b57262b.png', 2),\n",
       " ('./data/test/2/fc1b1841eadf.png', 2),\n",
       " ('./data/test/3/2665f72e2dd3.png', 3),\n",
       " ('./data/test/3/383e72af1955.png', 3),\n",
       " ('./data/test/3/457c7c927e27.png', 3),\n",
       " ('./data/test/3/6b128e648646.png', 3),\n",
       " ('./data/test/3/72595230840c.png', 3),\n",
       " ('./data/test/3/7b29e3783919.png', 3),\n",
       " ('./data/test/3/7b49041cbf17.png', 3),\n",
       " ('./data/test/3/810d3779abd9.png', 3),\n",
       " ('./data/test/3/8688f3d0fcaf.png', 3),\n",
       " ('./data/test/3/910bfd38e2f5.png', 3),\n",
       " ('./data/test/3/b019a49787c1.png', 3),\n",
       " ('./data/test/3/bb7e0a2544cd.png', 3),\n",
       " ('./data/test/3/c0a0828e01b4.png', 3),\n",
       " ('./data/test/3/ce207b69ff37.png', 3),\n",
       " ('./data/test/3/d16398c971e9.png', 3),\n",
       " ('./data/test/3/dd3dad6ca78f.png', 3),\n",
       " ('./data/test/3/e8d1c6c07cf2.png', 3),\n",
       " ('./data/test/3/f080a22008be.png', 3),\n",
       " ('./data/test/3/f576e45d1da2.png', 3),\n",
       " ('./data/test/3/fb61230b99dd.png', 3),\n",
       " ('./data/test/4/080ee76c958c.png', 4),\n",
       " ('./data/test/4/1fd5d860d4d7.png', 4),\n",
       " ('./data/test/4/2fde69f20585.png', 4),\n",
       " ('./data/test/4/378963f9df22.png', 4),\n",
       " ('./data/test/4/4a7dc013e802.png', 4),\n",
       " ('./data/test/4/4ccfa0b4e96c.png', 4),\n",
       " ('./data/test/4/5dd2e26fc244.png', 4),\n",
       " ('./data/test/4/60f15dd68d30.png', 4),\n",
       " ('./data/test/4/6d259b5b4c76.png', 4),\n",
       " ('./data/test/4/710b05a96e0f.png', 4),\n",
       " ('./data/test/4/857230f64a2e.png', 4),\n",
       " ('./data/test/4/85cbb84ac8e0.png', 4),\n",
       " ('./data/test/4/873dcc0b468f.png', 4),\n",
       " ('./data/test/4/8c7c26c52a6c.png', 4),\n",
       " ('./data/test/4/95e732e043a1.png', 4),\n",
       " ('./data/test/4/9859e2a6cc24.png', 4),\n",
       " ('./data/test/4/9e3510963315.png', 4),\n",
       " ('./data/test/4/a0cd7bffdaa0.png', 4),\n",
       " ('./data/test/4/a11bf2edd470.png', 4),\n",
       " ('./data/test/4/aa6673241154.png', 4),\n",
       " ('./data/test/4/b37aae3c8fe1.png', 4),\n",
       " ('./data/test/4/b70cb31b9abb.png', 4),\n",
       " ('./data/test/4/b87f9c59748b.png', 4),\n",
       " ('./data/test/4/bd9904495ccd.png', 4),\n",
       " ('./data/test/4/cd93a472e5cd.png', 4),\n",
       " ('./data/test/4/cd972e5639e0.png', 4),\n",
       " ('./data/test/4/e39b627cf648.png', 4),\n",
       " ('./data/test/4/ed3a0fc5b546.png', 4),\n",
       " ('./data/test/4/f025f33b2c9b.png', 4),\n",
       " ('./data/test/4/fce93caa4758.png', 4)]"
      ]
     },
     "execution_count": 35,
     "metadata": {},
     "output_type": "execute_result"
    }
   ],
   "source": [
    "dataset.imgs"
   ]
  },
  {
   "cell_type": "code",
   "execution_count": 36,
   "metadata": {},
   "outputs": [
    {
     "data": {
      "text/plain": [
       "[('./data/test/0/05113073b268.png', 0),\n",
       " ('./data/test/0/0709652336e2.png', 0),\n",
       " ('./data/test/0/070d4ce5fd90.png', 0),\n",
       " ('./data/test/0/08c60c647673.png', 0),\n",
       " ('./data/test/0/0d9a9896f801.png', 0),\n",
       " ('./data/test/0/0da632ca45e0.png', 0),\n",
       " ('./data/test/0/0e0003ddd8df.png', 0),\n",
       " ('./data/test/0/0fe31196e0e8.png', 0),\n",
       " ('./data/test/0/10bf25731c08.png', 0),\n",
       " ('./data/test/0/10de500cf0c5.png', 0),\n",
       " ('./data/test/0/11d8e5eaee5b.png', 0),\n",
       " ('./data/test/0/12ef75375322.png', 0),\n",
       " ('./data/test/0/15b21c80cc31.png', 0),\n",
       " ('./data/test/0/15f8d769935c.png', 0),\n",
       " ('./data/test/0/1601c939412f.png', 0),\n",
       " ('./data/test/0/1633f8291a80.png', 0),\n",
       " ('./data/test/0/17d7d6b092f4.png', 0),\n",
       " ('./data/test/0/18cde9649e90.png', 0),\n",
       " ('./data/test/0/1fb455685328.png', 0),\n",
       " ('./data/test/0/218c822a3dd9.png', 0),\n",
       " ('./data/test/0/2585bbc91909.png', 0),\n",
       " ('./data/test/0/2923971566fe.png', 0),\n",
       " ('./data/test/0/2b10f138e67d.png', 0),\n",
       " ('./data/test/0/2f8d14a7d390.png', 0),\n",
       " ('./data/test/0/318eb706a134.png', 0),\n",
       " ('./data/test/0/3325b1fe55d2.png', 0),\n",
       " ('./data/test/0/34acae864963.png', 0),\n",
       " ('./data/test/0/35ac70c0d08f.png', 0),\n",
       " ('./data/test/0/35cd9832fc0a.png', 0),\n",
       " ('./data/test/0/38f1901f214a.png', 0),\n",
       " ('./data/test/0/3ac92ac3d65a.png', 0),\n",
       " ('./data/test/0/3ca8be3b40d6.png', 0),\n",
       " ('./data/test/0/3f6bccf21ce8.png', 0),\n",
       " ('./data/test/0/3f6c627e2ff2.png', 0),\n",
       " ('./data/test/0/405085b53d7b.png', 0),\n",
       " ('./data/test/0/415f2d2bd2a1.png', 0),\n",
       " ('./data/test/0/42af7282349b.png', 0),\n",
       " ('./data/test/0/43f22d1be8dd.png', 0),\n",
       " ('./data/test/0/4554062fa836.png', 0),\n",
       " ('./data/test/0/48a45619d1a3.png', 0),\n",
       " ('./data/test/0/4cfd22ae43d4.png', 0),\n",
       " ('./data/test/0/4e85aa647534.png', 0),\n",
       " ('./data/test/0/4eabad7948cf.png', 0),\n",
       " ('./data/test/0/4ffa38550c95.png', 0),\n",
       " ('./data/test/0/50d8249f7bc9.png', 0),\n",
       " ('./data/test/0/511fd66b2df8.png', 0),\n",
       " ('./data/test/0/51aa3361294c.png', 0),\n",
       " ('./data/test/0/57db4781e7ec.png', 0),\n",
       " ('./data/test/0/5889a0c75cac.png', 0),\n",
       " ('./data/test/0/5db2e3a4594a.png', 0),\n",
       " ('./data/test/0/5db895d3f1fc.png', 0),\n",
       " ('./data/test/0/5ead17e894ae.png', 0),\n",
       " ('./data/test/0/606daaf0bfc7.png', 0),\n",
       " ('./data/test/0/609be3ca5ddf.png', 0),\n",
       " ('./data/test/0/6110ecb3bb1c.png', 0),\n",
       " ('./data/test/0/6653ad026901.png', 0),\n",
       " ('./data/test/0/66b88a4bc474.png', 0),\n",
       " ('./data/test/0/6bcce181be65.png', 0),\n",
       " ('./data/test/0/6bf26b777e3a.png', 0),\n",
       " ('./data/test/0/6c30dd481717.png', 0),\n",
       " ('./data/test/0/6ccfdb031184.png', 0),\n",
       " ('./data/test/0/6cee2e148520.png', 0),\n",
       " ('./data/test/0/6cffc6c6851a.png', 0),\n",
       " ('./data/test/0/6e0f78e188ff.png', 0),\n",
       " ('./data/test/0/6fe67fd7f5d1.png', 0),\n",
       " ('./data/test/0/70d0392397de.png', 0),\n",
       " ('./data/test/0/75a071608ea6.png', 0),\n",
       " ('./data/test/0/763ad1236efe.png', 0),\n",
       " ('./data/test/0/780f9c237c56.png', 0),\n",
       " ('./data/test/0/780f9daaa24b.png', 0),\n",
       " ('./data/test/0/7a46cfa69bae.png', 0),\n",
       " ('./data/test/0/7b9d519cbd66.png', 0),\n",
       " ('./data/test/0/7ce671f952be.png', 0),\n",
       " ('./data/test/0/8185ce1cdcef.png', 0),\n",
       " ('./data/test/0/81d79d53ed7b.png', 0),\n",
       " ('./data/test/0/83038ca49b6d.png', 0),\n",
       " ('./data/test/0/830e297965a1.png', 0),\n",
       " ('./data/test/0/837acf120946.png', 0),\n",
       " ('./data/test/0/851e40a21f81.png', 0),\n",
       " ('./data/test/0/8906c9ed54a2.png', 0),\n",
       " ('./data/test/0/8a3eb86ae4bd.png', 0),\n",
       " ('./data/test/0/8a87dd2a784e.png', 0),\n",
       " ('./data/test/0/8b568d47a1fd.png', 0),\n",
       " ('./data/test/0/8b58f9a338e8.png', 0),\n",
       " ('./data/test/0/9232dc06cfdc.png', 0),\n",
       " ('./data/test/0/930fee99213a.png', 0),\n",
       " ('./data/test/0/94f9ecf4b8d2.png', 0),\n",
       " ('./data/test/0/97fdee242fea.png', 0),\n",
       " ('./data/test/0/9c14ce27cbfc.png', 0),\n",
       " ('./data/test/0/9d62478042b6.png', 0),\n",
       " ('./data/test/0/9de9421f17e3.png', 0),\n",
       " ('./data/test/0/9e5737f771c3.png', 0),\n",
       " ('./data/test/0/9e7a63b2fc6a.png', 0),\n",
       " ('./data/test/0/a0445785e2f7.png', 0),\n",
       " ('./data/test/0/a1822dd8d05d.png', 0),\n",
       " ('./data/test/0/a1e236fbc863.png', 0),\n",
       " ('./data/test/0/a30a143a53a3.png', 0),\n",
       " ('./data/test/0/a3bd2e034614.png', 0),\n",
       " ('./data/test/0/a528be013a04.png', 0),\n",
       " ('./data/test/0/a61723fc38c2.png', 0),\n",
       " ('./data/test/0/a62e995f167c.png', 0),\n",
       " ('./data/test/0/a6b6d27c1b32.png', 0),\n",
       " ('./data/test/0/a8dea22ef903.png', 0),\n",
       " ('./data/test/0/a94da3d3b5c0.png', 0),\n",
       " ('./data/test/0/a987aa7aac37.png', 0),\n",
       " ('./data/test/0/a9b3177f01c0.png', 0),\n",
       " ('./data/test/0/aabd867043cf.png', 0),\n",
       " ('./data/test/0/abe940882578.png', 0),\n",
       " ('./data/test/0/ac81fc200162.png', 0),\n",
       " ('./data/test/0/ae58ccb5905e.png', 0),\n",
       " ('./data/test/0/af6a1508cd95.png', 0),\n",
       " ('./data/test/0/b05922e7abd3.png', 0),\n",
       " ('./data/test/0/b086c7cd3868.png', 0),\n",
       " ('./data/test/0/b0b3b16fc305.png', 0),\n",
       " ('./data/test/0/b21abe5d9722.png', 0),\n",
       " ('./data/test/0/b294927b14b0.png', 0),\n",
       " ('./data/test/0/b351ae99413a.png', 0),\n",
       " ('./data/test/0/b532dedd928c.png', 0),\n",
       " ('./data/test/0/b553e7909535.png', 0),\n",
       " ('./data/test/0/b5a3ca5c0a80.png', 0),\n",
       " ('./data/test/0/b8dab47a260e.png', 0),\n",
       " ('./data/test/0/b8e9a8f4617d.png', 0),\n",
       " ('./data/test/0/b9fe7da14a32.png', 0),\n",
       " ('./data/test/0/bb752b179751.png', 0),\n",
       " ('./data/test/0/bc34f52c37c7.png', 0),\n",
       " ('./data/test/0/bc8c6a778cde.png', 0),\n",
       " ('./data/test/0/be7f791a7877.png', 0),\n",
       " ('./data/test/0/beb00fa6e7c9.png', 0),\n",
       " ('./data/test/0/bf6cbccacf39.png', 0),\n",
       " ('./data/test/0/bf7221a016b5.png', 0),\n",
       " ('./data/test/0/c12e9ca420a5.png', 0),\n",
       " ('./data/test/0/c1819db0aece.png', 0),\n",
       " ('./data/test/0/c334f8688b77.png', 0),\n",
       " ('./data/test/0/c597ef460944.png', 0),\n",
       " ('./data/test/0/c5b58cc992af.png', 0),\n",
       " ('./data/test/0/c64c0966b4cf.png', 0),\n",
       " ('./data/test/0/cae33655ca00.png', 0),\n",
       " ('./data/test/0/cd01672507c9.png', 0),\n",
       " ('./data/test/0/cd48cfab4e44.png', 0),\n",
       " ('./data/test/0/cf6551521a35.png', 0),\n",
       " ('./data/test/0/d160ebef4117.png', 0),\n",
       " ('./data/test/0/d16e59a2b33a.png', 0),\n",
       " ('./data/test/0/d1afdb8cf70d.png', 0),\n",
       " ('./data/test/0/d2cd47ed2c1d.png', 0),\n",
       " ('./data/test/0/d2d523e9f669.png', 0),\n",
       " ('./data/test/0/d5c63a8d9e94.png', 0),\n",
       " ('./data/test/0/d6b109c82067.png', 0),\n",
       " ('./data/test/0/d74ccc796517.png', 0),\n",
       " ('./data/test/0/d7bc00091cfc.png', 0),\n",
       " ('./data/test/0/d838d5b9f571.png', 0),\n",
       " ('./data/test/0/d865997a6280.png', 0),\n",
       " ('./data/test/0/d91635f380b4.png', 0),\n",
       " ('./data/test/0/da3a2275c850.png', 0),\n",
       " ('./data/test/0/da9fe02dead3.png', 0),\n",
       " ('./data/test/0/dc0eea0b68a7.png', 0),\n",
       " ('./data/test/0/dea7538bb91a.png', 0),\n",
       " ('./data/test/0/e1dc02a3dc2a.png', 0),\n",
       " ('./data/test/0/e251bdf05b85.png', 0),\n",
       " ('./data/test/0/e29e54ff921e.png', 0),\n",
       " ('./data/test/0/e632e38fd2d4.png', 0),\n",
       " ('./data/test/0/e6552b7432b3.png', 0),\n",
       " ('./data/test/0/e79e10907295.png', 0),\n",
       " ('./data/test/0/e7b5dd5bab1f.png', 0),\n",
       " ('./data/test/0/e8e44b3160e3.png', 0),\n",
       " ('./data/test/0/e907d23cce3d.png', 0),\n",
       " ('./data/test/0/e9678824215d.png', 0),\n",
       " ('./data/test/0/e9f3c85a2a02.png', 0),\n",
       " ('./data/test/0/ea6a53e54d0f.png', 0),\n",
       " ('./data/test/0/ea9c41e1ced0.png', 0),\n",
       " ('./data/test/0/ed2c52c14493.png', 0),\n",
       " ('./data/test/0/ef247f28004f.png', 0),\n",
       " ('./data/test/0/ef99c499d665.png', 0),\n",
       " ('./data/test/0/f1d719c97838.png', 0),\n",
       " ('./data/test/0/f531232ecb55.png', 0),\n",
       " ('./data/test/0/f71333204618.png', 0),\n",
       " ('./data/test/0/f9e1c439d4c8.png', 0),\n",
       " ('./data/test/0/fa9f1bc03f21.png', 0),\n",
       " ('./data/test/0/fb767cea406c.png', 0),\n",
       " ('./data/test/0/fc898dfeb24f.png', 0),\n",
       " ('./data/test/0/fe3f62695b2d.png', 0),\n",
       " ('./data/test/0/ff03f74667df.png', 0),\n",
       " ('./data/test/1/0684311afdfc.png', 1),\n",
       " ('./data/test/1/172df1330a60.png', 1),\n",
       " ('./data/test/1/25e9fd872182.png', 1),\n",
       " ('./data/test/1/2994f17f58a5.png', 1),\n",
       " ('./data/test/1/384631079d1e.png', 1),\n",
       " ('./data/test/1/3b73a3a4a734.png', 1),\n",
       " ('./data/test/1/4a213b405ee4.png', 1),\n",
       " ('./data/test/1/531b39880c32.png', 1),\n",
       " ('./data/test/1/63363410389a.png', 1),\n",
       " ('./data/test/1/63a03880939c.png', 1),\n",
       " ('./data/test/1/64678182d8a8.png', 1),\n",
       " ('./data/test/1/6b00cb764237.png', 1),\n",
       " ('./data/test/1/71c1a3cdbe47.png', 1),\n",
       " ('./data/test/1/7335a2d43ada.png', 1),\n",
       " ('./data/test/1/756b0d6488bb.png', 1),\n",
       " ('./data/test/1/76e589911303.png', 1),\n",
       " ('./data/test/1/77a9538b8362.png', 1),\n",
       " ('./data/test/1/7ef5ff774a48.png', 1),\n",
       " ('./data/test/1/8114d6a160df.png', 1),\n",
       " ('./data/test/1/83e529e95b0e.png', 1),\n",
       " ('./data/test/1/84a72e15b23c.png', 1),\n",
       " ('./data/test/1/8ef2eb8c51c4.png', 1),\n",
       " ('./data/test/1/9a3109657ac1.png', 1),\n",
       " ('./data/test/1/ad1f7445b1a8.png', 1),\n",
       " ('./data/test/1/b7278b4f2448.png', 1),\n",
       " ('./data/test/1/c1ebe785503a.png', 1),\n",
       " ('./data/test/1/c9485c38fdd5.png', 1),\n",
       " ('./data/test/1/ca63fe4f4b52.png', 1),\n",
       " ('./data/test/1/cfd1bd0fcbb4.png', 1),\n",
       " ('./data/test/1/d66ccb75ada1.png', 1),\n",
       " ('./data/test/1/e25ccfe38e44.png', 1),\n",
       " ('./data/test/1/e38f3a65b02b.png', 1),\n",
       " ('./data/test/1/e9286ddf6ffe.png', 1),\n",
       " ('./data/test/1/e9ff9352ccb3.png', 1),\n",
       " ('./data/test/1/f55e1d2a19e4.png', 1),\n",
       " ('./data/test/1/f762c272c522.png', 1),\n",
       " ('./data/test/1/fca931da5c5e.png', 1),\n",
       " ('./data/test/2/033f2b43de6d.png', 2),\n",
       " ('./data/test/2/0415fc68b176.png', 2),\n",
       " ('./data/test/2/041f09eec1e8.png', 2),\n",
       " ('./data/test/2/0c76fd494af6.png', 2),\n",
       " ('./data/test/2/0ca0aee4d57e.png', 2),\n",
       " ('./data/test/2/0fd16b64697e.png', 2),\n",
       " ('./data/test/2/1269ab57c2e6.png', 2),\n",
       " ('./data/test/2/12e6e66c80a7.png', 2),\n",
       " ('./data/test/2/1414128bead0.png', 2),\n",
       " ('./data/test/2/1bea04b2bb2d.png', 2),\n",
       " ('./data/test/2/1c5ad36fb799.png', 2),\n",
       " ('./data/test/2/1dfbede13143.png', 2),\n",
       " ('./data/test/2/27bab1432f61.png', 2),\n",
       " ('./data/test/2/290ecdba359f.png', 2),\n",
       " ('./data/test/2/2e79041ef722.png', 2),\n",
       " ('./data/test/2/2fdffb6160a6.png', 2),\n",
       " ('./data/test/2/310c27067ac0.png', 2),\n",
       " ('./data/test/2/39923b29988a.png', 2),\n",
       " ('./data/test/2/3e1f8fecb06f.png', 2),\n",
       " ('./data/test/2/42a67337fa8e.png', 2),\n",
       " ('./data/test/2/453a1e2754b2.png', 2),\n",
       " ('./data/test/2/4a44cc840ebe.png', 2),\n",
       " ('./data/test/2/4b1001050f1d.png', 2),\n",
       " ('./data/test/2/4c52922f3bfd.png', 2),\n",
       " ('./data/test/2/51405d042000.png', 2),\n",
       " ('./data/test/2/5152bf091152.png', 2),\n",
       " ('./data/test/2/52886bed8a07.png', 2),\n",
       " ('./data/test/2/547b37da9223.png', 2),\n",
       " ('./data/test/2/55fd453001cc.png', 2),\n",
       " ('./data/test/2/57a5f1015504.png', 2),\n",
       " ('./data/test/2/57ce57a8cfb0.png', 2),\n",
       " ('./data/test/2/5cc6dea19614.png', 2),\n",
       " ('./data/test/2/5e7cc6ab4ac4.png', 2),\n",
       " ('./data/test/2/624fb7317106.png', 2),\n",
       " ('./data/test/2/6363b360aefb.png', 2),\n",
       " ('./data/test/2/650fbed3fdca.png', 2),\n",
       " ('./data/test/2/69591ebb198d.png', 2),\n",
       " ('./data/test/2/6ba5ed791444.png', 2),\n",
       " ('./data/test/2/7350c50667c5.png', 2),\n",
       " ('./data/test/2/7550966ef777.png', 2),\n",
       " ('./data/test/2/760b6f4c6d82.png', 2),\n",
       " ('./data/test/2/83b61051737f.png', 2),\n",
       " ('./data/test/2/879744b9dc65.png', 2),\n",
       " ('./data/test/2/89d2a7403a06.png', 2),\n",
       " ('./data/test/2/8d62ba9cb22a.png', 2),\n",
       " ('./data/test/2/8dba09a4e5ed.png', 2),\n",
       " ('./data/test/2/92b0d27fc0ec.png', 2),\n",
       " ('./data/test/2/92f313287a29.png', 2),\n",
       " ('./data/test/2/932181b93b2f.png', 2),\n",
       " ('./data/test/2/96c3e3db68bc.png', 2),\n",
       " ('./data/test/2/98e8adcf085c.png', 2),\n",
       " ('./data/test/2/9a78c6a7b1c2.png', 2),\n",
       " ('./data/test/2/9c088d2d1559.png', 2),\n",
       " ('./data/test/2/9cedf5c7016b.png', 2),\n",
       " ('./data/test/2/9df31421cdd2.png', 2),\n",
       " ('./data/test/2/9faad91b6578.png', 2),\n",
       " ('./data/test/2/a015ce4f51ad.png', 2),\n",
       " ('./data/test/2/a01c590c444f.png', 2),\n",
       " ('./data/test/2/a3475dc3ac80.png', 2),\n",
       " ('./data/test/2/a386ec9aabde.png', 2),\n",
       " ('./data/test/2/a66c3165876f.png', 2),\n",
       " ('./data/test/2/a790a3b36390.png', 2),\n",
       " ('./data/test/2/a87f53bc984a.png', 2),\n",
       " ('./data/test/2/a9a28c37c8c4.png', 2),\n",
       " ('./data/test/2/aa9b8f05f4bf.png', 2),\n",
       " ('./data/test/2/abf09c44d5f4.png', 2),\n",
       " ('./data/test/2/aef9016557ca.png', 2),\n",
       " ('./data/test/2/b0cc9f8d06e4.png', 2),\n",
       " ('./data/test/2/b0d6417bad3e.png', 2),\n",
       " ('./data/test/2/b402daa0864c.png', 2),\n",
       " ('./data/test/2/b99c825b93c5.png', 2),\n",
       " ('./data/test/2/bca2bdc15fc5.png', 2),\n",
       " ('./data/test/2/bf9cba745efc.png', 2),\n",
       " ('./data/test/2/c3acf47700ea.png', 2),\n",
       " ('./data/test/2/c6c2bad91f23.png', 2),\n",
       " ('./data/test/2/c6e1e9fbf39b.png', 2),\n",
       " ('./data/test/2/ca7f5caddf96.png', 2),\n",
       " ('./data/test/2/ca891d37a43c.png', 2),\n",
       " ('./data/test/2/cb602182cde3.png', 2),\n",
       " ('./data/test/2/cbf0394039f8.png', 2),\n",
       " ('./data/test/2/cc839823755b.png', 2),\n",
       " ('./data/test/2/cca626a0e19a.png', 2),\n",
       " ('./data/test/2/cd3fd04d72f5.png', 2),\n",
       " ('./data/test/2/d264396d8d1a.png', 2),\n",
       " ('./data/test/2/d364423ec6f9.png', 2),\n",
       " ('./data/test/2/d6283ded6aea.png', 2),\n",
       " ('./data/test/2/da0a1043abf7.png', 2),\n",
       " ('./data/test/2/dee687c6e88a.png', 2),\n",
       " ('./data/test/2/e3e490babc0c.png', 2),\n",
       " ('./data/test/2/e65a2ff90494.png', 2),\n",
       " ('./data/test/2/e65f94ad9be3.png', 2),\n",
       " ('./data/test/2/e6f0ce5bf282.png', 2),\n",
       " ('./data/test/2/e9f82b5bbaf4.png', 2),\n",
       " ('./data/test/2/ea4dcb055139.png', 2),\n",
       " ('./data/test/2/eb32a815f78c.png', 2),\n",
       " ('./data/test/2/ed88faaa325a.png', 2),\n",
       " ('./data/test/2/ee059945b08a.png', 2),\n",
       " ('./data/test/2/f30f203ef51e.png', 2),\n",
       " ('./data/test/2/f5e9a307288c.png', 2),\n",
       " ('./data/test/2/fa748b57262b.png', 2),\n",
       " ('./data/test/2/fc1b1841eadf.png', 2),\n",
       " ('./data/test/3/2665f72e2dd3.png', 3),\n",
       " ('./data/test/3/383e72af1955.png', 3),\n",
       " ('./data/test/3/457c7c927e27.png', 3),\n",
       " ('./data/test/3/6b128e648646.png', 3),\n",
       " ('./data/test/3/72595230840c.png', 3),\n",
       " ('./data/test/3/7b29e3783919.png', 3),\n",
       " ('./data/test/3/7b49041cbf17.png', 3),\n",
       " ('./data/test/3/810d3779abd9.png', 3),\n",
       " ('./data/test/3/8688f3d0fcaf.png', 3),\n",
       " ('./data/test/3/910bfd38e2f5.png', 3),\n",
       " ('./data/test/3/b019a49787c1.png', 3),\n",
       " ('./data/test/3/bb7e0a2544cd.png', 3),\n",
       " ('./data/test/3/c0a0828e01b4.png', 3),\n",
       " ('./data/test/3/ce207b69ff37.png', 3),\n",
       " ('./data/test/3/d16398c971e9.png', 3),\n",
       " ('./data/test/3/dd3dad6ca78f.png', 3),\n",
       " ('./data/test/3/e8d1c6c07cf2.png', 3),\n",
       " ('./data/test/3/f080a22008be.png', 3),\n",
       " ('./data/test/3/f576e45d1da2.png', 3),\n",
       " ('./data/test/3/fb61230b99dd.png', 3),\n",
       " ('./data/test/4/080ee76c958c.png', 4),\n",
       " ('./data/test/4/1fd5d860d4d7.png', 4),\n",
       " ('./data/test/4/2fde69f20585.png', 4),\n",
       " ('./data/test/4/378963f9df22.png', 4),\n",
       " ('./data/test/4/4a7dc013e802.png', 4),\n",
       " ('./data/test/4/4ccfa0b4e96c.png', 4),\n",
       " ('./data/test/4/5dd2e26fc244.png', 4),\n",
       " ('./data/test/4/60f15dd68d30.png', 4),\n",
       " ('./data/test/4/6d259b5b4c76.png', 4),\n",
       " ('./data/test/4/710b05a96e0f.png', 4),\n",
       " ('./data/test/4/857230f64a2e.png', 4),\n",
       " ('./data/test/4/85cbb84ac8e0.png', 4),\n",
       " ('./data/test/4/873dcc0b468f.png', 4),\n",
       " ('./data/test/4/8c7c26c52a6c.png', 4),\n",
       " ('./data/test/4/95e732e043a1.png', 4),\n",
       " ('./data/test/4/9859e2a6cc24.png', 4),\n",
       " ('./data/test/4/9e3510963315.png', 4),\n",
       " ('./data/test/4/a0cd7bffdaa0.png', 4),\n",
       " ('./data/test/4/a11bf2edd470.png', 4),\n",
       " ('./data/test/4/aa6673241154.png', 4),\n",
       " ('./data/test/4/b37aae3c8fe1.png', 4),\n",
       " ('./data/test/4/b70cb31b9abb.png', 4),\n",
       " ('./data/test/4/b87f9c59748b.png', 4),\n",
       " ('./data/test/4/bd9904495ccd.png', 4),\n",
       " ('./data/test/4/cd93a472e5cd.png', 4),\n",
       " ('./data/test/4/cd972e5639e0.png', 4),\n",
       " ('./data/test/4/e39b627cf648.png', 4),\n",
       " ('./data/test/4/ed3a0fc5b546.png', 4),\n",
       " ('./data/test/4/f025f33b2c9b.png', 4),\n",
       " ('./data/test/4/fce93caa4758.png', 4)]"
      ]
     },
     "execution_count": 36,
     "metadata": {},
     "output_type": "execute_result"
    }
   ],
   "source": [
    "dataset.samples"
   ]
  },
  {
   "cell_type": "code",
   "execution_count": 39,
   "metadata": {},
   "outputs": [
    {
     "data": {
      "text/plain": [
       "2"
      ]
     },
     "execution_count": 39,
     "metadata": {},
     "output_type": "execute_result"
    }
   ],
   "source": [
    "len(dataset[0])"
   ]
  },
  {
   "cell_type": "code",
   "execution_count": 105,
   "metadata": {},
   "outputs": [
    {
     "data": {
      "image/png": "[encoded data removed]",
      "text/plain": [
       "<PIL.Image.Image image mode=RGB size=298x224 at 0x7FD0EFF07940>"
      ]
     },
     "execution_count": 105,
     "metadata": {},
     "output_type": "execute_result"
    }
   ],
   "source": [
    "from PIL import Image\n",
    "T = transforms.Resize(224)\n",
    "T(Image.open('./data/test/0/0709652336e2.png'))"
   ]
  },
  {
   "cell_type": "code",
   "execution_count": 106,
   "metadata": {},
   "outputs": [
    {
     "data": {
      "text/plain": [
       "(-0.5, 223.5, 223.5, -0.5)"
      ]
     },
     "execution_count": 106,
     "metadata": {},
     "output_type": "execute_result"
    },
    {
     "data": {
      "image/png": "[encoded data removed]",
      "text/plain": [
       "<Figure size 396x360 with 1 Axes>"
      ]
     },
     "metadata": {
      "needs_background": "light"
     },
     "output_type": "display_data"
    }
   ],
   "source": [
    "plt.figure(figsize=[5.5,5.0])\n",
    "plt.imshow(dataset[1][0].permute(1, 2, 0))\n",
    "plt.axis('off')"
   ]
  },
  {
   "cell_type": "code",
   "execution_count": 48,
   "metadata": {},
   "outputs": [
    {
     "data": {
      "text/plain": [
       "torch.Size([224, 224, 3])"
      ]
     },
     "execution_count": 48,
     "metadata": {},
     "output_type": "execute_result"
    }
   ],
   "source": [
    "dataset[0][0].permute(1, 2, 0).shape"
   ]
  },
  {
   "cell_type": "code",
   "execution_count": 43,
   "metadata": {},
   "outputs": [
    {
     "data": {
      "text/plain": [
       "tensor([[[0.0235, 0.0235, 0.0235,  ..., 0.0235, 0.0235, 0.0235],\n",
       "         [0.0235, 0.0235, 0.0235,  ..., 0.0235, 0.0235, 0.0235],\n",
       "         [0.0235, 0.0235, 0.0235,  ..., 0.0235, 0.0235, 0.0235],\n",
       "         ...,\n",
       "         [0.0235, 0.0235, 0.0235,  ..., 0.0235, 0.0235, 0.0235],\n",
       "         [0.0235, 0.0235, 0.0235,  ..., 0.0235, 0.0235, 0.0235],\n",
       "         [0.0235, 0.0235, 0.0235,  ..., 0.0235, 0.0235, 0.0235]],\n",
       "\n",
       "        [[0.0235, 0.0235, 0.0235,  ..., 0.0235, 0.0235, 0.0235],\n",
       "         [0.0235, 0.0235, 0.0235,  ..., 0.0235, 0.0235, 0.0235],\n",
       "         [0.0235, 0.0235, 0.0235,  ..., 0.0235, 0.0235, 0.0235],\n",
       "         ...,\n",
       "         [0.0235, 0.0235, 0.0235,  ..., 0.0196, 0.0196, 0.0196],\n",
       "         [0.0235, 0.0235, 0.0196,  ..., 0.0235, 0.0235, 0.0235],\n",
       "         [0.0235, 0.0235, 0.0196,  ..., 0.0235, 0.0196, 0.0235]],\n",
       "\n",
       "        [[0.0314, 0.0275, 0.0275,  ..., 0.0275, 0.0314, 0.0275],\n",
       "         [0.0275, 0.0275, 0.0314,  ..., 0.0275, 0.0275, 0.0275],\n",
       "         [0.0314, 0.0314, 0.0314,  ..., 0.0314, 0.0314, 0.0275],\n",
       "         ...,\n",
       "         [0.0314, 0.0314, 0.0314,  ..., 0.0314, 0.0314, 0.0275],\n",
       "         [0.0314, 0.0314, 0.0314,  ..., 0.0314, 0.0314, 0.0275],\n",
       "         [0.0314, 0.0314, 0.0275,  ..., 0.0275, 0.0314, 0.0275]]])"
      ]
     },
     "execution_count": 43,
     "metadata": {},
     "output_type": "execute_result"
    }
   ],
   "source": [
    "dataset[0][0]"
   ]
  },
  {
   "cell_type": "code",
   "execution_count": null,
   "metadata": {},
   "outputs": [],
   "source": []
  }
 ],
 "metadata": {
  "colab": {
   "collapsed_sections": [],
   "name": "xView_Processing.ipynb",
   "provenance": []
  },
  "kernelspec": {
   "display_name": "Python 3",
   "language": "python",
   "name": "python3"
  },
  "language_info": {
   "codemirror_mode": {
    "name": "ipython",
    "version": 3
   },
   "file_extension": ".py",
   "mimetype": "text/x-python",
   "name": "python",
   "nbconvert_exporter": "python",
   "pygments_lexer": "ipython3",
   "version": "3.7.3"
  }
 },
 "nbformat": 4,
 "nbformat_minor": 1
}
